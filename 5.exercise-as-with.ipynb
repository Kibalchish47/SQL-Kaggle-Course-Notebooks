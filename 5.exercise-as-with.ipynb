{
 "cells": [
  {
   "cell_type": "markdown",
   "id": "9755adcc",
   "metadata": {
    "papermill": {
     "duration": 0.009219,
     "end_time": "2023-08-22T17:43:15.229041",
     "exception": false,
     "start_time": "2023-08-22T17:43:15.219822",
     "status": "completed"
    },
    "tags": []
   },
   "source": [
    "**This notebook is an exercise in the [SQL](https://www.kaggle.com/learn/intro-to-sql) course.  You can reference the tutorial at [this link](https://www.kaggle.com/dansbecker/as-with).**\n",
    "\n",
    "---\n"
   ]
  },
  {
   "cell_type": "markdown",
   "id": "4c503675",
   "metadata": {
    "papermill": {
     "duration": 0.008343,
     "end_time": "2023-08-22T17:43:15.246152",
     "exception": false,
     "start_time": "2023-08-22T17:43:15.237809",
     "status": "completed"
    },
    "tags": []
   },
   "source": [
    "# Introduction\n",
    "\n",
    "You are getting to the point where you can own an analysis from beginning to end. So you'll do more data exploration in this exercise than you've done before.  Before you get started, run the following set-up code as usual. "
   ]
  },
  {
   "cell_type": "code",
   "execution_count": 1,
   "id": "e42e0e81",
   "metadata": {
    "execution": {
     "iopub.execute_input": "2023-08-22T17:43:15.265142Z",
     "iopub.status.busy": "2023-08-22T17:43:15.264669Z",
     "iopub.status.idle": "2023-08-22T17:44:02.059704Z",
     "shell.execute_reply": "2023-08-22T17:44:02.058206Z"
    },
    "papermill": {
     "duration": 46.80901,
     "end_time": "2023-08-22T17:44:02.063608",
     "exception": false,
     "start_time": "2023-08-22T17:43:15.254598",
     "status": "completed"
    },
    "tags": []
   },
   "outputs": [
    {
     "name": "stdout",
     "output_type": "stream",
     "text": [
      "Collecting git+https://github.com/Kaggle/learntools.git\r\n",
      "  Cloning https://github.com/Kaggle/learntools.git to /tmp/pip-req-build-dlgwqe0f\r\n",
      "  Running command git clone --filter=blob:none --quiet https://github.com/Kaggle/learntools.git /tmp/pip-req-build-dlgwqe0f\r\n",
      "  fatal: unable to access 'https://github.com/Kaggle/learntools.git/': Could not resolve host: github.com\r\n",
      "  \u001b[1;31merror\u001b[0m: \u001b[1msubprocess-exited-with-error\u001b[0m\r\n",
      "  \r\n",
      "  \u001b[31m×\u001b[0m \u001b[32mgit clone --\u001b[0m\u001b[32mfilter\u001b[0m\u001b[32m=\u001b[0m\u001b[32mblob\u001b[0m\u001b[32m:none --quiet \u001b[0m\u001b[4;32mhttps://github.com/Kaggle/learntools.git\u001b[0m\u001b[32m \u001b[0m\u001b[32m/tmp/\u001b[0m\u001b[32mpip-req-build-dlgwqe0f\u001b[0m did not run successfully.\r\n",
      "  \u001b[31m│\u001b[0m exit code: \u001b[1;36m128\u001b[0m\r\n",
      "  \u001b[31m╰─>\u001b[0m See above for output.\r\n",
      "  \r\n",
      "  \u001b[1;35mnote\u001b[0m: This error originates from a subprocess, and is likely not a problem with pip.\r\n",
      "\u001b[1;31merror\u001b[0m: \u001b[1msubprocess-exited-with-error\u001b[0m\r\n",
      "\r\n",
      "\u001b[31m×\u001b[0m \u001b[32mgit clone --\u001b[0m\u001b[32mfilter\u001b[0m\u001b[32m=\u001b[0m\u001b[32mblob\u001b[0m\u001b[32m:none --quiet \u001b[0m\u001b[4;32mhttps://github.com/Kaggle/learntools.git\u001b[0m\u001b[32m \u001b[0m\u001b[32m/tmp/\u001b[0m\u001b[32mpip-req-build-dlgwqe0f\u001b[0m did not run successfully.\r\n",
      "\u001b[31m│\u001b[0m exit code: \u001b[1;36m128\u001b[0m\r\n",
      "\u001b[31m╰─>\u001b[0m See above for output.\r\n",
      "\r\n",
      "\u001b[1;35mnote\u001b[0m: This error originates from a subprocess, and is likely not a problem with pip.\r\n",
      "Using Kaggle's public dataset BigQuery integration.\n",
      "Setup Complete\n"
     ]
    }
   ],
   "source": [
    "# Get most recent checking code\n",
    "!pip install -U -t /kaggle/working/ git+https://github.com/Kaggle/learntools.git\n",
    "# Set up feedback system\n",
    "from learntools.core import binder\n",
    "binder.bind(globals())\n",
    "from learntools.sql.ex5 import *\n",
    "print(\"Setup Complete\")"
   ]
  },
  {
   "cell_type": "markdown",
   "id": "1538aeac",
   "metadata": {
    "papermill": {
     "duration": 0.009579,
     "end_time": "2023-08-22T17:44:02.084164",
     "exception": false,
     "start_time": "2023-08-22T17:44:02.074585",
     "status": "completed"
    },
    "tags": []
   },
   "source": [
    "You'll work with a dataset about taxi trips in the city of Chicago. Run the cell below to fetch the `chicago_taxi_trips` dataset."
   ]
  },
  {
   "cell_type": "code",
   "execution_count": 2,
   "id": "aba83d91",
   "metadata": {
    "execution": {
     "iopub.execute_input": "2023-08-22T17:44:02.107552Z",
     "iopub.status.busy": "2023-08-22T17:44:02.106616Z",
     "iopub.status.idle": "2023-08-22T17:44:02.471568Z",
     "shell.execute_reply": "2023-08-22T17:44:02.469940Z"
    },
    "papermill": {
     "duration": 0.381023,
     "end_time": "2023-08-22T17:44:02.474732",
     "exception": false,
     "start_time": "2023-08-22T17:44:02.093709",
     "status": "completed"
    },
    "tags": []
   },
   "outputs": [
    {
     "name": "stdout",
     "output_type": "stream",
     "text": [
      "Using Kaggle's public dataset BigQuery integration.\n"
     ]
    }
   ],
   "source": [
    "from google.cloud import bigquery\n",
    "\n",
    "# Create a \"Client\" object\n",
    "client = bigquery.Client()\n",
    "\n",
    "# Construct a reference to the \"chicago_taxi_trips\" dataset\n",
    "dataset_ref = client.dataset(\"chicago_taxi_trips\", project=\"bigquery-public-data\")\n",
    "\n",
    "# API request - fetch the dataset\n",
    "dataset = client.get_dataset(dataset_ref)"
   ]
  },
  {
   "cell_type": "markdown",
   "id": "5328e8ca",
   "metadata": {
    "papermill": {
     "duration": 0.009087,
     "end_time": "2023-08-22T17:44:02.493231",
     "exception": false,
     "start_time": "2023-08-22T17:44:02.484144",
     "status": "completed"
    },
    "tags": []
   },
   "source": [
    "# Exercises\n",
    "\n",
    "You are curious how much slower traffic moves when traffic volume is high. This involves a few steps.\n",
    "\n",
    "### 1) Find the data\n",
    "Before you can access the data, you need to find the table name with the data.\n",
    "\n",
    "*Hint*: Tab completion is helpful whenever you can't remember a command. Type `client.` and then hit the tab key. Don't forget the period before hitting tab."
   ]
  },
  {
   "cell_type": "code",
   "execution_count": 3,
   "id": "f0c82914",
   "metadata": {
    "execution": {
     "iopub.execute_input": "2023-08-22T17:44:02.516290Z",
     "iopub.status.busy": "2023-08-22T17:44:02.515387Z",
     "iopub.status.idle": "2023-08-22T17:44:02.754179Z",
     "shell.execute_reply": "2023-08-22T17:44:02.753104Z"
    },
    "papermill": {
     "duration": 0.252657,
     "end_time": "2023-08-22T17:44:02.757061",
     "exception": false,
     "start_time": "2023-08-22T17:44:02.504404",
     "status": "completed"
    },
    "tags": []
   },
   "outputs": [
    {
     "name": "stdout",
     "output_type": "stream",
     "text": [
      "taxi_trips\n"
     ]
    }
   ],
   "source": [
    "# Your code here to find the table name\n",
    "# List all the tables in the dataset\n",
    "tables = list(client.list_tables(dataset))\n",
    "\n",
    "# Print names of all tables in the dataset (there is only one!)\n",
    "for table in tables:  \n",
    "    print(table.table_id)"
   ]
  },
  {
   "cell_type": "code",
   "execution_count": 4,
   "id": "63e4c06b",
   "metadata": {
    "execution": {
     "iopub.execute_input": "2023-08-22T17:44:02.778826Z",
     "iopub.status.busy": "2023-08-22T17:44:02.778379Z",
     "iopub.status.idle": "2023-08-22T17:44:02.790812Z",
     "shell.execute_reply": "2023-08-22T17:44:02.789499Z"
    },
    "papermill": {
     "duration": 0.026502,
     "end_time": "2023-08-22T17:44:02.793428",
     "exception": false,
     "start_time": "2023-08-22T17:44:02.766926",
     "status": "completed"
    },
    "tags": []
   },
   "outputs": [
    {
     "data": {
      "application/javascript": [
       "parent.postMessage({\"jupyterEvent\": \"custom.exercise_interaction\", \"data\": {\"outcomeType\": 1, \"valueTowardsCompletion\": 0.16666666666666666, \"interactionType\": 1, \"questionType\": 1, \"questionId\": \"1_GetTableName\", \"learnToolsVersion\": \"0.3.4\", \"failureMessage\": \"\", \"exceptionClass\": \"\", \"trace\": \"\"}}, \"*\")"
      ],
      "text/plain": [
       "<IPython.core.display.Javascript object>"
      ]
     },
     "metadata": {},
     "output_type": "display_data"
    },
    {
     "data": {
      "text/markdown": [
       "<span style=\"color:#33cc33\">Correct</span>"
      ],
      "text/plain": [
       "Correct"
      ]
     },
     "metadata": {},
     "output_type": "display_data"
    }
   ],
   "source": [
    "# Write the table name as a string below\n",
    "table_name = 'taxi_trips'\n",
    "\n",
    "# Check your answer\n",
    "q_1.check()"
   ]
  },
  {
   "cell_type": "markdown",
   "id": "42752f5b",
   "metadata": {
    "papermill": {
     "duration": 0.009521,
     "end_time": "2023-08-22T17:44:02.812951",
     "exception": false,
     "start_time": "2023-08-22T17:44:02.803430",
     "status": "completed"
    },
    "tags": []
   },
   "source": [
    "For the solution, uncomment the line below."
   ]
  },
  {
   "cell_type": "code",
   "execution_count": 5,
   "id": "d05f0786",
   "metadata": {
    "execution": {
     "iopub.execute_input": "2023-08-22T17:44:02.837131Z",
     "iopub.status.busy": "2023-08-22T17:44:02.835098Z",
     "iopub.status.idle": "2023-08-22T17:44:02.841885Z",
     "shell.execute_reply": "2023-08-22T17:44:02.840847Z"
    },
    "papermill": {
     "duration": 0.021137,
     "end_time": "2023-08-22T17:44:02.844642",
     "exception": false,
     "start_time": "2023-08-22T17:44:02.823505",
     "status": "completed"
    },
    "tags": []
   },
   "outputs": [],
   "source": [
    "# q_1.solution()"
   ]
  },
  {
   "cell_type": "markdown",
   "id": "36ff48e3",
   "metadata": {
    "papermill": {
     "duration": 0.009558,
     "end_time": "2023-08-22T17:44:02.863999",
     "exception": false,
     "start_time": "2023-08-22T17:44:02.854441",
     "status": "completed"
    },
    "tags": []
   },
   "source": [
    "### 2) Peek at the data\n",
    "\n",
    "Use the next code cell to peek at the top few rows of the data. Inspect the data and see if any issues with data quality are immediately obvious. "
   ]
  },
  {
   "cell_type": "code",
   "execution_count": 6,
   "id": "8d70a72a",
   "metadata": {
    "execution": {
     "iopub.execute_input": "2023-08-22T17:44:02.886924Z",
     "iopub.status.busy": "2023-08-22T17:44:02.886410Z",
     "iopub.status.idle": "2023-08-22T17:44:03.669406Z",
     "shell.execute_reply": "2023-08-22T17:44:03.668160Z"
    },
    "papermill": {
     "duration": 0.79836,
     "end_time": "2023-08-22T17:44:03.672550",
     "exception": false,
     "start_time": "2023-08-22T17:44:02.874190",
     "status": "completed"
    },
    "tags": []
   },
   "outputs": [
    {
     "data": {
      "text/html": [
       "<div>\n",
       "<style scoped>\n",
       "    .dataframe tbody tr th:only-of-type {\n",
       "        vertical-align: middle;\n",
       "    }\n",
       "\n",
       "    .dataframe tbody tr th {\n",
       "        vertical-align: top;\n",
       "    }\n",
       "\n",
       "    .dataframe thead th {\n",
       "        text-align: right;\n",
       "    }\n",
       "</style>\n",
       "<table border=\"1\" class=\"dataframe\">\n",
       "  <thead>\n",
       "    <tr style=\"text-align: right;\">\n",
       "      <th></th>\n",
       "      <th>unique_key</th>\n",
       "      <th>taxi_id</th>\n",
       "      <th>trip_start_timestamp</th>\n",
       "      <th>trip_end_timestamp</th>\n",
       "      <th>trip_seconds</th>\n",
       "      <th>trip_miles</th>\n",
       "      <th>pickup_census_tract</th>\n",
       "      <th>dropoff_census_tract</th>\n",
       "      <th>pickup_community_area</th>\n",
       "      <th>dropoff_community_area</th>\n",
       "      <th>...</th>\n",
       "      <th>extras</th>\n",
       "      <th>trip_total</th>\n",
       "      <th>payment_type</th>\n",
       "      <th>company</th>\n",
       "      <th>pickup_latitude</th>\n",
       "      <th>pickup_longitude</th>\n",
       "      <th>pickup_location</th>\n",
       "      <th>dropoff_latitude</th>\n",
       "      <th>dropoff_longitude</th>\n",
       "      <th>dropoff_location</th>\n",
       "    </tr>\n",
       "  </thead>\n",
       "  <tbody>\n",
       "    <tr>\n",
       "      <th>0</th>\n",
       "      <td>968b34f43738f7b1e7542be85d16f36d5ef43197</td>\n",
       "      <td>e17e0bd91a11c26e916a8de5bee31ef2a503043b17ea4c...</td>\n",
       "      <td>2023-06-15 04:30:00+00:00</td>\n",
       "      <td>2023-06-15 04:45:00+00:00</td>\n",
       "      <td>689</td>\n",
       "      <td>11.25</td>\n",
       "      <td>NaN</td>\n",
       "      <td>NaN</td>\n",
       "      <td>53</td>\n",
       "      <td>68</td>\n",
       "      <td>...</td>\n",
       "      <td>0.0</td>\n",
       "      <td>28.75</td>\n",
       "      <td>Prcard</td>\n",
       "      <td>Flash Cab</td>\n",
       "      <td>41.673820</td>\n",
       "      <td>-87.635740</td>\n",
       "      <td>POINT (-87.6357397768 41.6738199043)</td>\n",
       "      <td>41.777196</td>\n",
       "      <td>-87.642498</td>\n",
       "      <td>POINT (-87.6424975271 41.7771962546)</td>\n",
       "    </tr>\n",
       "    <tr>\n",
       "      <th>1</th>\n",
       "      <td>94ee0d74633f1608f1272026ecb0192301da3cf6</td>\n",
       "      <td>27ac571a7da50a8a926db5a27583ef282a290e500ad21c...</td>\n",
       "      <td>2023-05-19 14:00:00+00:00</td>\n",
       "      <td>2023-05-19 14:15:00+00:00</td>\n",
       "      <td>1260</td>\n",
       "      <td>4.70</td>\n",
       "      <td>NaN</td>\n",
       "      <td>NaN</td>\n",
       "      <td>44</td>\n",
       "      <td>39</td>\n",
       "      <td>...</td>\n",
       "      <td>0.0</td>\n",
       "      <td>15.75</td>\n",
       "      <td>Unknown</td>\n",
       "      <td>Taxi Affiliation Services</td>\n",
       "      <td>41.740206</td>\n",
       "      <td>-87.615970</td>\n",
       "      <td>POINT (-87.6159695226 41.7402057565)</td>\n",
       "      <td>41.808916</td>\n",
       "      <td>-87.596183</td>\n",
       "      <td>POINT (-87.5961833442 41.8089162826)</td>\n",
       "    </tr>\n",
       "    <tr>\n",
       "      <th>2</th>\n",
       "      <td>952d18688bbf1baa313f0ceb8d17dde0073ff88e</td>\n",
       "      <td>a46aedb114a720df392300b351493f1a65cd0e8f485f70...</td>\n",
       "      <td>2023-05-12 12:45:00+00:00</td>\n",
       "      <td>2023-05-12 12:45:00+00:00</td>\n",
       "      <td>134</td>\n",
       "      <td>0.49</td>\n",
       "      <td>NaN</td>\n",
       "      <td>NaN</td>\n",
       "      <td>38</td>\n",
       "      <td>39</td>\n",
       "      <td>...</td>\n",
       "      <td>0.0</td>\n",
       "      <td>4.50</td>\n",
       "      <td>Cash</td>\n",
       "      <td>Flash Cab</td>\n",
       "      <td>41.812949</td>\n",
       "      <td>-87.617860</td>\n",
       "      <td>POINT (-87.6178596758 41.8129489392)</td>\n",
       "      <td>41.808916</td>\n",
       "      <td>-87.596183</td>\n",
       "      <td>POINT (-87.5961833442 41.8089162826)</td>\n",
       "    </tr>\n",
       "    <tr>\n",
       "      <th>3</th>\n",
       "      <td>969c6aa4e7b25eed03da7f1afe4301e8719b14b1</td>\n",
       "      <td>99a996d079da15de20cb43da904ab1dfa54610da249cf2...</td>\n",
       "      <td>2023-06-27 16:45:00+00:00</td>\n",
       "      <td>2023-06-27 17:30:00+00:00</td>\n",
       "      <td>1815</td>\n",
       "      <td>14.26</td>\n",
       "      <td>NaN</td>\n",
       "      <td>NaN</td>\n",
       "      <td>75</td>\n",
       "      <td>36</td>\n",
       "      <td>...</td>\n",
       "      <td>0.0</td>\n",
       "      <td>37.00</td>\n",
       "      <td>Prcard</td>\n",
       "      <td>Flash Cab</td>\n",
       "      <td>41.689730</td>\n",
       "      <td>-87.669054</td>\n",
       "      <td>POINT (-87.6690544032 41.6897299145)</td>\n",
       "      <td>41.823713</td>\n",
       "      <td>-87.602350</td>\n",
       "      <td>POINT (-87.6023504372 41.8237128095)</td>\n",
       "    </tr>\n",
       "    <tr>\n",
       "      <th>4</th>\n",
       "      <td>96713e31c63320ec82fb5de005c1ccd7a0ebce77</td>\n",
       "      <td>1b84d02f4f9b66792e2b5fb36d19ec7f5a4eb96f26ed6c...</td>\n",
       "      <td>2023-05-31 13:15:00+00:00</td>\n",
       "      <td>2023-05-31 14:15:00+00:00</td>\n",
       "      <td>3635</td>\n",
       "      <td>6.58</td>\n",
       "      <td>NaN</td>\n",
       "      <td>NaN</td>\n",
       "      <td>69</td>\n",
       "      <td>39</td>\n",
       "      <td>...</td>\n",
       "      <td>0.0</td>\n",
       "      <td>29.50</td>\n",
       "      <td>Prcard</td>\n",
       "      <td>City Service</td>\n",
       "      <td>41.763247</td>\n",
       "      <td>-87.616134</td>\n",
       "      <td>POINT (-87.6161341112 41.7632467988)</td>\n",
       "      <td>41.808916</td>\n",
       "      <td>-87.596183</td>\n",
       "      <td>POINT (-87.5961833442 41.8089162826)</td>\n",
       "    </tr>\n",
       "  </tbody>\n",
       "</table>\n",
       "<p>5 rows × 23 columns</p>\n",
       "</div>"
      ],
      "text/plain": [
       "                                 unique_key  \\\n",
       "0  968b34f43738f7b1e7542be85d16f36d5ef43197   \n",
       "1  94ee0d74633f1608f1272026ecb0192301da3cf6   \n",
       "2  952d18688bbf1baa313f0ceb8d17dde0073ff88e   \n",
       "3  969c6aa4e7b25eed03da7f1afe4301e8719b14b1   \n",
       "4  96713e31c63320ec82fb5de005c1ccd7a0ebce77   \n",
       "\n",
       "                                             taxi_id  \\\n",
       "0  e17e0bd91a11c26e916a8de5bee31ef2a503043b17ea4c...   \n",
       "1  27ac571a7da50a8a926db5a27583ef282a290e500ad21c...   \n",
       "2  a46aedb114a720df392300b351493f1a65cd0e8f485f70...   \n",
       "3  99a996d079da15de20cb43da904ab1dfa54610da249cf2...   \n",
       "4  1b84d02f4f9b66792e2b5fb36d19ec7f5a4eb96f26ed6c...   \n",
       "\n",
       "       trip_start_timestamp        trip_end_timestamp  trip_seconds  \\\n",
       "0 2023-06-15 04:30:00+00:00 2023-06-15 04:45:00+00:00           689   \n",
       "1 2023-05-19 14:00:00+00:00 2023-05-19 14:15:00+00:00          1260   \n",
       "2 2023-05-12 12:45:00+00:00 2023-05-12 12:45:00+00:00           134   \n",
       "3 2023-06-27 16:45:00+00:00 2023-06-27 17:30:00+00:00          1815   \n",
       "4 2023-05-31 13:15:00+00:00 2023-05-31 14:15:00+00:00          3635   \n",
       "\n",
       "   trip_miles  pickup_census_tract  dropoff_census_tract  \\\n",
       "0       11.25                  NaN                   NaN   \n",
       "1        4.70                  NaN                   NaN   \n",
       "2        0.49                  NaN                   NaN   \n",
       "3       14.26                  NaN                   NaN   \n",
       "4        6.58                  NaN                   NaN   \n",
       "\n",
       "   pickup_community_area  dropoff_community_area  ...  extras  trip_total  \\\n",
       "0                     53                      68  ...     0.0       28.75   \n",
       "1                     44                      39  ...     0.0       15.75   \n",
       "2                     38                      39  ...     0.0        4.50   \n",
       "3                     75                      36  ...     0.0       37.00   \n",
       "4                     69                      39  ...     0.0       29.50   \n",
       "\n",
       "   payment_type                    company  pickup_latitude pickup_longitude  \\\n",
       "0        Prcard                  Flash Cab        41.673820       -87.635740   \n",
       "1       Unknown  Taxi Affiliation Services        41.740206       -87.615970   \n",
       "2          Cash                  Flash Cab        41.812949       -87.617860   \n",
       "3        Prcard                  Flash Cab        41.689730       -87.669054   \n",
       "4        Prcard               City Service        41.763247       -87.616134   \n",
       "\n",
       "                        pickup_location  dropoff_latitude  dropoff_longitude  \\\n",
       "0  POINT (-87.6357397768 41.6738199043)         41.777196         -87.642498   \n",
       "1  POINT (-87.6159695226 41.7402057565)         41.808916         -87.596183   \n",
       "2  POINT (-87.6178596758 41.8129489392)         41.808916         -87.596183   \n",
       "3  POINT (-87.6690544032 41.6897299145)         41.823713         -87.602350   \n",
       "4  POINT (-87.6161341112 41.7632467988)         41.808916         -87.596183   \n",
       "\n",
       "                       dropoff_location  \n",
       "0  POINT (-87.6424975271 41.7771962546)  \n",
       "1  POINT (-87.5961833442 41.8089162826)  \n",
       "2  POINT (-87.5961833442 41.8089162826)  \n",
       "3  POINT (-87.6023504372 41.8237128095)  \n",
       "4  POINT (-87.5961833442 41.8089162826)  \n",
       "\n",
       "[5 rows x 23 columns]"
      ]
     },
     "execution_count": 6,
     "metadata": {},
     "output_type": "execute_result"
    }
   ],
   "source": [
    "# Your code here\n",
    "# Construct a reference to the \"taxi_trips\" table\n",
    "table_ref = dataset_ref.table(\"taxi_trips\")\n",
    "\n",
    "# API request - fetch the table\n",
    "table = client.get_table(table_ref)\n",
    "\n",
    "# Preview the first five lines of the \"taxi_trips\" table\n",
    "client.list_rows(table, max_results=5).to_dataframe()"
   ]
  },
  {
   "cell_type": "markdown",
   "id": "2772f1ae",
   "metadata": {
    "papermill": {
     "duration": 0.011383,
     "end_time": "2023-08-22T17:44:03.696561",
     "exception": false,
     "start_time": "2023-08-22T17:44:03.685178",
     "status": "completed"
    },
    "tags": []
   },
   "source": [
    "After deciding whether you see any important issues, run the code cell below."
   ]
  },
  {
   "cell_type": "code",
   "execution_count": 7,
   "id": "e0d7ebeb",
   "metadata": {
    "execution": {
     "iopub.execute_input": "2023-08-22T17:44:03.720757Z",
     "iopub.status.busy": "2023-08-22T17:44:03.719817Z",
     "iopub.status.idle": "2023-08-22T17:44:03.724976Z",
     "shell.execute_reply": "2023-08-22T17:44:03.724062Z"
    },
    "papermill": {
     "duration": 0.020343,
     "end_time": "2023-08-22T17:44:03.727723",
     "exception": false,
     "start_time": "2023-08-22T17:44:03.707380",
     "status": "completed"
    },
    "tags": []
   },
   "outputs": [],
   "source": [
    "# Check your answer (Run this code cell to receive credit!)\n",
    "# q_2.solution()"
   ]
  },
  {
   "cell_type": "markdown",
   "id": "4217e119",
   "metadata": {
    "papermill": {
     "duration": 0.009885,
     "end_time": "2023-08-22T17:44:03.747913",
     "exception": false,
     "start_time": "2023-08-22T17:44:03.738028",
     "status": "completed"
    },
    "tags": []
   },
   "source": [
    "### 3) Determine when this data is from\n",
    "\n",
    "If the data is sufficiently old, we might be careful before assuming the data is still relevant to traffic patterns today. Write a query that counts the number of trips in each year.  \n",
    "\n",
    "Your results should have two columns:\n",
    "- `year` - the year of the trips\n",
    "- `num_trips` - the number of trips in that year\n",
    "\n",
    "Hints:\n",
    "- When using **GROUP BY** and **ORDER BY**, you should refer to the columns by the alias `year` that you set at the top of the **SELECT** query.\n",
    "- The SQL code to **SELECT** the year from `trip_start_timestamp` is <code>SELECT EXTRACT(YEAR FROM trip_start_timestamp)</code>\n",
    "- The **FROM** field can be a little tricky until you are used to it.  The format is:\n",
    "    1. A backick (the symbol \\`).\n",
    "    2. The project name. In this case it is `bigquery-public-data`.\n",
    "    3. A period.\n",
    "    4. The dataset name. In this case, it is `chicago_taxi_trips`.\n",
    "    5. A period.\n",
    "    6. The table name. You used this as your answer in **1) Find the data**.\n",
    "    7. A backtick (the symbol \\`)."
   ]
  },
  {
   "cell_type": "code",
   "execution_count": 8,
   "id": "3a2499b7",
   "metadata": {
    "execution": {
     "iopub.execute_input": "2023-08-22T17:44:03.770950Z",
     "iopub.status.busy": "2023-08-22T17:44:03.770081Z",
     "iopub.status.idle": "2023-08-22T17:44:04.711180Z",
     "shell.execute_reply": "2023-08-22T17:44:04.710016Z"
    },
    "papermill": {
     "duration": 0.956042,
     "end_time": "2023-08-22T17:44:04.714176",
     "exception": false,
     "start_time": "2023-08-22T17:44:03.758134",
     "status": "completed"
    },
    "tags": []
   },
   "outputs": [
    {
     "data": {
      "application/javascript": [
       "parent.postMessage({\"jupyterEvent\": \"custom.exercise_interaction\", \"data\": {\"outcomeType\": 1, \"valueTowardsCompletion\": 0.16666666666666666, \"interactionType\": 1, \"questionType\": 2, \"questionId\": \"3_YearDistrib\", \"learnToolsVersion\": \"0.3.4\", \"failureMessage\": \"\", \"exceptionClass\": \"\", \"trace\": \"\"}}, \"*\")"
      ],
      "text/plain": [
       "<IPython.core.display.Javascript object>"
      ]
     },
     "metadata": {},
     "output_type": "display_data"
    },
    {
     "data": {
      "text/markdown": [
       "<span style=\"color:#33cc33\">Correct</span>"
      ],
      "text/plain": [
       "Correct"
      ]
     },
     "metadata": {},
     "output_type": "display_data"
    }
   ],
   "source": [
    "rides_per_year_query = \"\"\"\n",
    "                       SELECT EXTRACT(YEAR FROM trip_start_timestamp) AS year, \n",
    "                              COUNT(1) AS num_trips\n",
    "                       FROM `bigquery-public-data.chicago_taxi_trips.taxi_trips`\n",
    "                       GROUP BY year\n",
    "                       ORDER BY year\n",
    "                       \"\"\"\n",
    "\n",
    "# Set up the query (cancel the query if it would use too much of \n",
    "# your quota)\n",
    "safe_config = bigquery.QueryJobConfig(maximum_bytes_billed=10**10)\n",
    "rides_per_year_query_job = client.query(rides_per_year_query, job_config=safe_config)\n",
    "\n",
    "# API request - run the query, and return a pandas DataFrame\n",
    "rides_per_year_result = rides_per_year_query_job.to_dataframe()\n",
    "\n",
    "q_3.check()"
   ]
  },
  {
   "cell_type": "markdown",
   "id": "b410ae00",
   "metadata": {
    "papermill": {
     "duration": 0.010526,
     "end_time": "2023-08-22T17:44:04.735549",
     "exception": false,
     "start_time": "2023-08-22T17:44:04.725023",
     "status": "completed"
    },
    "tags": []
   },
   "source": [
    "For a hint or the solution, uncomment the appropriate line below."
   ]
  },
  {
   "cell_type": "code",
   "execution_count": 9,
   "id": "64a208ef",
   "metadata": {
    "execution": {
     "iopub.execute_input": "2023-08-22T17:44:04.759308Z",
     "iopub.status.busy": "2023-08-22T17:44:04.758546Z",
     "iopub.status.idle": "2023-08-22T17:44:04.763930Z",
     "shell.execute_reply": "2023-08-22T17:44:04.762567Z"
    },
    "papermill": {
     "duration": 0.020609,
     "end_time": "2023-08-22T17:44:04.766794",
     "exception": false,
     "start_time": "2023-08-22T17:44:04.746185",
     "status": "completed"
    },
    "tags": []
   },
   "outputs": [],
   "source": [
    "#q_3.hint()\n",
    "#q_3.solution()"
   ]
  },
  {
   "cell_type": "markdown",
   "id": "7d3a5bd1",
   "metadata": {
    "papermill": {
     "duration": 0.010238,
     "end_time": "2023-08-22T17:44:04.787876",
     "exception": false,
     "start_time": "2023-08-22T17:44:04.777638",
     "status": "completed"
    },
    "tags": []
   },
   "source": [
    "### 4) Dive slightly deeper\n",
    "\n",
    "You'd like to take a closer look at rides from 2016.  Copy the query you used above in `rides_per_year_query` into the cell below for `rides_per_month_query`.  Then modify it in two ways:\n",
    "1. Use a **WHERE** clause to limit the query to data from 2016.\n",
    "2. Modify the query to extract the month rather than the year."
   ]
  },
  {
   "cell_type": "code",
   "execution_count": 10,
   "id": "5a6a2bc7",
   "metadata": {
    "execution": {
     "iopub.execute_input": "2023-08-22T17:44:04.812938Z",
     "iopub.status.busy": "2023-08-22T17:44:04.812488Z",
     "iopub.status.idle": "2023-08-22T17:44:06.039638Z",
     "shell.execute_reply": "2023-08-22T17:44:06.038069Z"
    },
    "papermill": {
     "duration": 1.242458,
     "end_time": "2023-08-22T17:44:06.042442",
     "exception": false,
     "start_time": "2023-08-22T17:44:04.799984",
     "status": "completed"
    },
    "tags": []
   },
   "outputs": [
    {
     "data": {
      "application/javascript": [
       "parent.postMessage({\"jupyterEvent\": \"custom.exercise_interaction\", \"data\": {\"outcomeType\": 1, \"valueTowardsCompletion\": 0.16666666666666666, \"interactionType\": 1, \"questionType\": 2, \"questionId\": \"4_MonthDistrib\", \"learnToolsVersion\": \"0.3.4\", \"failureMessage\": \"\", \"exceptionClass\": \"\", \"trace\": \"\"}}, \"*\")"
      ],
      "text/plain": [
       "<IPython.core.display.Javascript object>"
      ]
     },
     "metadata": {},
     "output_type": "display_data"
    },
    {
     "data": {
      "text/markdown": [
       "<span style=\"color:#33cc33\">Correct</span>"
      ],
      "text/plain": [
       "Correct"
      ]
     },
     "metadata": {},
     "output_type": "display_data"
    }
   ],
   "source": [
    "rides_per_month_query = \"\"\"\n",
    "                        SELECT EXTRACT(MONTH FROM trip_start_timestamp) AS month, \n",
    "                               COUNT(1) AS num_trips\n",
    "                        FROM `bigquery-public-data.chicago_taxi_trips.taxi_trips`\n",
    "                        WHERE EXTRACT(YEAR FROM trip_start_timestamp) = 2016\n",
    "                        GROUP BY month\n",
    "                        ORDER BY month\n",
    "                        \"\"\"\n",
    "\n",
    "# Set up the query (cancel the query if it would use too much of \n",
    "# your quota)\n",
    "safe_config = bigquery.QueryJobConfig(maximum_bytes_billed=10**10)\n",
    "rides_per_month_query_job = client.query(rides_per_month_query, job_config=safe_config)\n",
    "\n",
    "# API request - run the query, and return a pandas DataFrame\n",
    "rides_per_month_result = rides_per_month_query_job.to_dataframe()\n",
    "# Check your answer\n",
    "q_4.check()"
   ]
  },
  {
   "cell_type": "markdown",
   "id": "01ec9b74",
   "metadata": {
    "papermill": {
     "duration": 0.012228,
     "end_time": "2023-08-22T17:44:06.066446",
     "exception": false,
     "start_time": "2023-08-22T17:44:06.054218",
     "status": "completed"
    },
    "tags": []
   },
   "source": [
    "For a hint or the solution, uncomment the appropriate line below."
   ]
  },
  {
   "cell_type": "code",
   "execution_count": 11,
   "id": "52934742",
   "metadata": {
    "execution": {
     "iopub.execute_input": "2023-08-22T17:44:06.091145Z",
     "iopub.status.busy": "2023-08-22T17:44:06.090617Z",
     "iopub.status.idle": "2023-08-22T17:44:06.098582Z",
     "shell.execute_reply": "2023-08-22T17:44:06.095744Z"
    },
    "papermill": {
     "duration": 0.025401,
     "end_time": "2023-08-22T17:44:06.103127",
     "exception": false,
     "start_time": "2023-08-22T17:44:06.077726",
     "status": "completed"
    },
    "tags": []
   },
   "outputs": [],
   "source": [
    "#q_4.hint()\n",
    "#q_4.solution()"
   ]
  },
  {
   "cell_type": "markdown",
   "id": "48ecd274",
   "metadata": {
    "papermill": {
     "duration": 0.01103,
     "end_time": "2023-08-22T17:44:06.126572",
     "exception": false,
     "start_time": "2023-08-22T17:44:06.115542",
     "status": "completed"
    },
    "tags": []
   },
   "source": [
    "### 5) Write the query\n",
    "\n",
    "It's time to step up the sophistication of your queries.  Write a query that shows, for each hour of the day in the dataset, the corresponding number of trips and average speed.\n",
    "\n",
    "Your results should have three columns:\n",
    "- `hour_of_day` - sort by this column, which holds the result of extracting the hour from `trip_start_timestamp`.\n",
    "- `num_trips` - the count of the total number of trips in each hour of the day (e.g. how many trips were started between 6AM and 7AM, independent of which day it occurred on).\n",
    "- `avg_mph` - the average speed, measured in miles per hour, for trips that started in that hour of the day.  Average speed in miles per hour is calculated as `3600 * SUM(trip_miles) / SUM(trip_seconds)`. (The value 3600 is used to convert from seconds to hours.)\n",
    "\n",
    "Restrict your query to data meeting the following criteria:\n",
    "- a `trip_start_timestamp` > **2016-01-01** and < **2016-04-01**\n",
    "- `trip_seconds` > 0 and `trip_miles` > 0\n",
    "\n",
    "You will use a common table expression (CTE) to select just the relevant rides.  Because this dataset is very big, this CTE should select only the columns you'll need to create the final output (though you won't actually create those in the CTE -- instead you'll create those in the later **SELECT** statement below the CTE).\n",
    "\n",
    "This is a much harder query than anything you've written so far.  Good luck!"
   ]
  },
  {
   "cell_type": "code",
   "execution_count": 12,
   "id": "0fc8f3bd",
   "metadata": {
    "execution": {
     "iopub.execute_input": "2023-08-22T17:44:06.150753Z",
     "iopub.status.busy": "2023-08-22T17:44:06.150304Z",
     "iopub.status.idle": "2023-08-22T17:44:07.272475Z",
     "shell.execute_reply": "2023-08-22T17:44:07.271067Z"
    },
    "papermill": {
     "duration": 1.137788,
     "end_time": "2023-08-22T17:44:07.275463",
     "exception": false,
     "start_time": "2023-08-22T17:44:06.137675",
     "status": "completed"
    },
    "tags": []
   },
   "outputs": [
    {
     "name": "stdout",
     "output_type": "stream",
     "text": [
      "    hour_of_day  num_trips    avg_mph\n",
      "0             0     203092  20.191744\n",
      "1             1     178046  18.628598\n",
      "2             2     143447  18.444370\n",
      "3             3     108899  19.273107\n",
      "4             4      80067  27.599669\n",
      "5             5      75786  33.065604\n",
      "6             6     102254  28.533112\n",
      "7             7     187585  19.884592\n",
      "8             8     284223  16.787900\n",
      "9             9     306854  18.434124\n",
      "10           10     279762  20.091309\n",
      "11           11     294006  20.926340\n",
      "12           12     311522  20.063901\n",
      "13           13     317225  19.766321\n",
      "14           14     312629  19.309655\n",
      "15           15     319953  18.515564\n",
      "16           16     349455  17.168814\n",
      "17           17     394324  14.641375\n",
      "18           18     431991  15.381995\n",
      "19           19     416743  17.795008\n",
      "20           20     356279  20.347398\n",
      "21           21     318363  22.584731\n",
      "22           22     289886  21.129847\n",
      "23           23     241690  20.259757\n"
     ]
    }
   ],
   "source": [
    "speeds_query = \"\"\"\n",
    "               WITH RelevantRides AS\n",
    "               (\n",
    "                   SELECT EXTRACT(HOUR FROM trip_start_timestamp) AS hour_of_day, \n",
    "                          trip_miles, \n",
    "                          trip_seconds\n",
    "                   FROM `bigquery-public-data.chicago_taxi_trips.taxi_trips`\n",
    "                   WHERE trip_start_timestamp > '2016-01-01' AND \n",
    "                         trip_start_timestamp < '2016-04-01' AND \n",
    "                         trip_seconds > 0 AND \n",
    "                         trip_miles > 0\n",
    "               )\n",
    "               SELECT hour_of_day, \n",
    "                      COUNT(1) AS num_trips, \n",
    "                      3600 * SUM(trip_miles) / SUM(trip_seconds) AS avg_mph\n",
    "               FROM RelevantRides\n",
    "               GROUP BY hour_of_day\n",
    "               ORDER BY hour_of_day\n",
    "               \"\"\"\n",
    "\n",
    "# Set up the query (cancel the query if it would use too much of \n",
    "# your quota)\n",
    "safe_config = bigquery.QueryJobConfig(maximum_bytes_billed=10**10)\n",
    "speeds_query_job = client.query(speeds_query, job_config=safe_config)\n",
    "\n",
    "# API request - run the query, and return a pandas DataFrame\n",
    "speeds_result = speeds_query_job.to_dataframe()\n",
    "\n",
    "# View results\n",
    "print(speeds_result)"
   ]
  },
  {
   "cell_type": "markdown",
   "id": "547e551b",
   "metadata": {
    "papermill": {
     "duration": 0.011689,
     "end_time": "2023-08-22T17:44:07.298856",
     "exception": false,
     "start_time": "2023-08-22T17:44:07.287167",
     "status": "completed"
    },
    "tags": []
   },
   "source": [
    "For the solution, uncomment the appropriate line below."
   ]
  },
  {
   "cell_type": "code",
   "execution_count": 13,
   "id": "4767c2f5",
   "metadata": {
    "execution": {
     "iopub.execute_input": "2023-08-22T17:44:07.325313Z",
     "iopub.status.busy": "2023-08-22T17:44:07.324813Z",
     "iopub.status.idle": "2023-08-22T17:44:07.335357Z",
     "shell.execute_reply": "2023-08-22T17:44:07.333902Z"
    },
    "papermill": {
     "duration": 0.027504,
     "end_time": "2023-08-22T17:44:07.338137",
     "exception": false,
     "start_time": "2023-08-22T17:44:07.310633",
     "status": "completed"
    },
    "tags": []
   },
   "outputs": [
    {
     "data": {
      "application/javascript": [
       "parent.postMessage({\"jupyterEvent\": \"custom.exercise_interaction\", \"data\": {\"interactionType\": 3, \"questionType\": 2, \"questionId\": \"5_TheLongQuery\", \"learnToolsVersion\": \"0.3.4\", \"valueTowardsCompletion\": 0.0, \"failureMessage\": \"\", \"exceptionClass\": \"\", \"trace\": \"\", \"outcomeType\": 4}}, \"*\")"
      ],
      "text/plain": [
       "<IPython.core.display.Javascript object>"
      ]
     },
     "metadata": {},
     "output_type": "display_data"
    },
    {
     "data": {
      "text/markdown": [
       "<span style=\"color:#33cc99\">Solution:</span> \n",
       "```python\n",
       "\n",
       "speeds_query = \"\"\"\n",
       "               WITH RelevantRides AS\n",
       "               (\n",
       "                   SELECT EXTRACT(HOUR FROM trip_start_timestamp) AS hour_of_day, \n",
       "                          trip_miles, \n",
       "                          trip_seconds\n",
       "                   FROM `bigquery-public-data.chicago_taxi_trips.taxi_trips`\n",
       "                   WHERE trip_start_timestamp > '2016-01-01' AND \n",
       "                         trip_start_timestamp < '2016-04-01' AND \n",
       "                         trip_seconds > 0 AND \n",
       "                         trip_miles > 0\n",
       "               )\n",
       "               SELECT hour_of_day, \n",
       "                      COUNT(1) AS num_trips, \n",
       "                      3600 * SUM(trip_miles) / SUM(trip_seconds) AS avg_mph\n",
       "               FROM RelevantRides\n",
       "               GROUP BY hour_of_day\n",
       "               ORDER BY hour_of_day\n",
       "               \"\"\"\n",
       "\n",
       "# Set up the query (cancel the query if it would use too much of \n",
       "# your quota)\n",
       "safe_config = bigquery.QueryJobConfig(maximum_bytes_billed=10**10)\n",
       "speeds_query_job = client.query(speeds_query, job_config=safe_config)\n",
       "\n",
       "# API request - run the query, and return a pandas DataFrame\n",
       "speeds_result = speeds_query_job.to_dataframe()\n",
       "\n",
       "# View results\n",
       "print(speeds_result)\n",
       "\n",
       "```"
      ],
      "text/plain": [
       "Solution: \n",
       "```python\n",
       "\n",
       "speeds_query = \"\"\"\n",
       "               WITH RelevantRides AS\n",
       "               (\n",
       "                   SELECT EXTRACT(HOUR FROM trip_start_timestamp) AS hour_of_day, \n",
       "                          trip_miles, \n",
       "                          trip_seconds\n",
       "                   FROM `bigquery-public-data.chicago_taxi_trips.taxi_trips`\n",
       "                   WHERE trip_start_timestamp > '2016-01-01' AND \n",
       "                         trip_start_timestamp < '2016-04-01' AND \n",
       "                         trip_seconds > 0 AND \n",
       "                         trip_miles > 0\n",
       "               )\n",
       "               SELECT hour_of_day, \n",
       "                      COUNT(1) AS num_trips, \n",
       "                      3600 * SUM(trip_miles) / SUM(trip_seconds) AS avg_mph\n",
       "               FROM RelevantRides\n",
       "               GROUP BY hour_of_day\n",
       "               ORDER BY hour_of_day\n",
       "               \"\"\"\n",
       "\n",
       "# Set up the query (cancel the query if it would use too much of \n",
       "# your quota)\n",
       "safe_config = bigquery.QueryJobConfig(maximum_bytes_billed=10**10)\n",
       "speeds_query_job = client.query(speeds_query, job_config=safe_config)\n",
       "\n",
       "# API request - run the query, and return a pandas DataFrame\n",
       "speeds_result = speeds_query_job.to_dataframe()\n",
       "\n",
       "# View results\n",
       "print(speeds_result)\n",
       "\n",
       "```"
      ]
     },
     "metadata": {},
     "output_type": "display_data"
    }
   ],
   "source": [
    "q_5.solution()"
   ]
  },
  {
   "cell_type": "markdown",
   "id": "d6551c18",
   "metadata": {
    "papermill": {
     "duration": 0.011208,
     "end_time": "2023-08-22T17:44:07.361228",
     "exception": false,
     "start_time": "2023-08-22T17:44:07.350020",
     "status": "completed"
    },
    "tags": []
   },
   "source": [
    "That's a hard query. If you made good progress towards the solution, congratulations!"
   ]
  },
  {
   "cell_type": "markdown",
   "id": "993638a8",
   "metadata": {
    "papermill": {
     "duration": 0.01134,
     "end_time": "2023-08-22T17:44:07.384077",
     "exception": false,
     "start_time": "2023-08-22T17:44:07.372737",
     "status": "completed"
    },
    "tags": []
   },
   "source": [
    "# Keep going\n",
    "\n",
    "You can write very complex queries now with a single data source. But nothing expands the horizons of SQL as much as the ability to combine or **JOIN** tables.\n",
    "\n",
    "**[Click here](https://www.kaggle.com/dansbecker/joining-data)** to start the last lesson in the Intro to SQL course."
   ]
  },
  {
   "cell_type": "markdown",
   "id": "a99a0401",
   "metadata": {
    "papermill": {
     "duration": 0.011173,
     "end_time": "2023-08-22T17:44:07.406790",
     "exception": false,
     "start_time": "2023-08-22T17:44:07.395617",
     "status": "completed"
    },
    "tags": []
   },
   "source": [
    "---\n",
    "\n",
    "\n",
    "\n",
    "\n",
    "*Have questions or comments? Visit the [course discussion forum](https://www.kaggle.com/learn/intro-to-sql/discussion) to chat with other learners.*"
   ]
  }
 ],
 "metadata": {
  "kernelspec": {
   "display_name": "Python 3",
   "language": "python",
   "name": "python3"
  },
  "language_info": {
   "codemirror_mode": {
    "name": "ipython",
    "version": 3
   },
   "file_extension": ".py",
   "mimetype": "text/x-python",
   "name": "python",
   "nbconvert_exporter": "python",
   "pygments_lexer": "ipython3",
   "version": "3.10.12"
  },
  "papermill": {
   "default_parameters": {},
   "duration": 66.562731,
   "end_time": "2023-08-22T17:44:08.746071",
   "environment_variables": {},
   "exception": null,
   "input_path": "__notebook__.ipynb",
   "output_path": "__notebook__.ipynb",
   "parameters": {},
   "start_time": "2023-08-22T17:43:02.183340",
   "version": "2.4.0"
  }
 },
 "nbformat": 4,
 "nbformat_minor": 5
}
