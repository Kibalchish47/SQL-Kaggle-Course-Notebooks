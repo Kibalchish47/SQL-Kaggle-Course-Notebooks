{
 "cells": [
  {
   "cell_type": "markdown",
   "id": "f13f0dcc",
   "metadata": {
    "papermill": {
     "duration": 0.007494,
     "end_time": "2023-08-22T09:21:37.783465",
     "exception": false,
     "start_time": "2023-08-22T09:21:37.775971",
     "status": "completed"
    },
    "tags": []
   },
   "source": [
    "**This notebook is an exercise in the [SQL](https://www.kaggle.com/learn/intro-to-sql) course.  You can reference the tutorial at [this link](https://www.kaggle.com/dansbecker/getting-started-with-sql-and-bigquery).**\n",
    "\n",
    "---\n"
   ]
  },
  {
   "cell_type": "markdown",
   "id": "d80fa9c6",
   "metadata": {
    "papermill": {
     "duration": 0.006904,
     "end_time": "2023-08-22T09:21:37.797672",
     "exception": false,
     "start_time": "2023-08-22T09:21:37.790768",
     "status": "completed"
    },
    "tags": []
   },
   "source": [
    "# Introduction\n",
    "\n",
    "The first test of your new data exploration skills uses data describing crime in the city of Chicago.\n",
    "\n",
    "Before you get started, run the following cell. It sets up the automated feedback system to review your answers."
   ]
  },
  {
   "cell_type": "code",
   "execution_count": 1,
   "id": "73a23285",
   "metadata": {
    "execution": {
     "iopub.execute_input": "2023-08-22T09:21:37.814470Z",
     "iopub.status.busy": "2023-08-22T09:21:37.813487Z",
     "iopub.status.idle": "2023-08-22T09:21:39.101489Z",
     "shell.execute_reply": "2023-08-22T09:21:39.099856Z"
    },
    "papermill": {
     "duration": 1.300548,
     "end_time": "2023-08-22T09:21:39.105091",
     "exception": false,
     "start_time": "2023-08-22T09:21:37.804543",
     "status": "completed"
    },
    "tags": []
   },
   "outputs": [
    {
     "name": "stdout",
     "output_type": "stream",
     "text": [
      "Using Kaggle's public dataset BigQuery integration.\n",
      "Setup Complete\n"
     ]
    }
   ],
   "source": [
    "# Set up feedack system\n",
    "from learntools.core import binder\n",
    "binder.bind(globals())\n",
    "from learntools.sql.ex1 import *\n",
    "print(\"Setup Complete\")"
   ]
  },
  {
   "cell_type": "markdown",
   "id": "ab952a0b",
   "metadata": {
    "papermill": {
     "duration": 0.007793,
     "end_time": "2023-08-22T09:21:39.122953",
     "exception": false,
     "start_time": "2023-08-22T09:21:39.115160",
     "status": "completed"
    },
    "tags": []
   },
   "source": [
    "Use the next code cell to fetch the dataset."
   ]
  },
  {
   "cell_type": "code",
   "execution_count": 2,
   "id": "5eff4cc4",
   "metadata": {
    "execution": {
     "iopub.execute_input": "2023-08-22T09:21:39.138841Z",
     "iopub.status.busy": "2023-08-22T09:21:39.138479Z",
     "iopub.status.idle": "2023-08-22T09:21:39.635309Z",
     "shell.execute_reply": "2023-08-22T09:21:39.634038Z"
    },
    "papermill": {
     "duration": 0.507861,
     "end_time": "2023-08-22T09:21:39.637976",
     "exception": false,
     "start_time": "2023-08-22T09:21:39.130115",
     "status": "completed"
    },
    "tags": []
   },
   "outputs": [
    {
     "name": "stdout",
     "output_type": "stream",
     "text": [
      "Using Kaggle's public dataset BigQuery integration.\n"
     ]
    }
   ],
   "source": [
    "from google.cloud import bigquery\n",
    "\n",
    "# Create a \"Client\" object\n",
    "client = bigquery.Client()\n",
    "\n",
    "# Construct a reference to the \"chicago_crime\" dataset\n",
    "dataset_ref = client.dataset(\"chicago_crime\", project=\"bigquery-public-data\")\n",
    "\n",
    "# API request - fetch the dataset\n",
    "dataset = client.get_dataset(dataset_ref)"
   ]
  },
  {
   "cell_type": "markdown",
   "id": "027a5c56",
   "metadata": {
    "papermill": {
     "duration": 0.006797,
     "end_time": "2023-08-22T09:21:39.652098",
     "exception": false,
     "start_time": "2023-08-22T09:21:39.645301",
     "status": "completed"
    },
    "tags": []
   },
   "source": [
    "# Exercises\n",
    "\n",
    "### 1) Count tables in the dataset\n",
    "\n",
    "How many tables are in the Chicago Crime dataset?"
   ]
  },
  {
   "cell_type": "code",
   "execution_count": 3,
   "id": "60cafd74",
   "metadata": {
    "execution": {
     "iopub.execute_input": "2023-08-22T09:21:39.670009Z",
     "iopub.status.busy": "2023-08-22T09:21:39.668783Z",
     "iopub.status.idle": "2023-08-22T09:21:40.064929Z",
     "shell.execute_reply": "2023-08-22T09:21:40.063763Z"
    },
    "papermill": {
     "duration": 0.407327,
     "end_time": "2023-08-22T09:21:40.067468",
     "exception": false,
     "start_time": "2023-08-22T09:21:39.660141",
     "status": "completed"
    },
    "tags": []
   },
   "outputs": [
    {
     "name": "stdout",
     "output_type": "stream",
     "text": [
      "crime\n"
     ]
    }
   ],
   "source": [
    "# Write the code you need here to figure out the answer\n",
    "tables = list(client.list_tables(dataset))\n",
    "for table in tables:  \n",
    "    print(table.table_id)"
   ]
  },
  {
   "cell_type": "code",
   "execution_count": 4,
   "id": "5c7ad822",
   "metadata": {
    "execution": {
     "iopub.execute_input": "2023-08-22T09:21:40.085454Z",
     "iopub.status.busy": "2023-08-22T09:21:40.084510Z",
     "iopub.status.idle": "2023-08-22T09:21:40.095255Z",
     "shell.execute_reply": "2023-08-22T09:21:40.094076Z"
    },
    "papermill": {
     "duration": 0.023058,
     "end_time": "2023-08-22T09:21:40.097905",
     "exception": false,
     "start_time": "2023-08-22T09:21:40.074847",
     "status": "completed"
    },
    "tags": []
   },
   "outputs": [
    {
     "data": {
      "application/javascript": [
       "parent.postMessage({\"jupyterEvent\": \"custom.exercise_interaction\", \"data\": {\"outcomeType\": 1, \"valueTowardsCompletion\": 0.3333333333333333, \"interactionType\": 1, \"questionType\": 1, \"questionId\": \"1_CountTables\", \"learnToolsVersion\": \"0.3.4\", \"failureMessage\": \"\", \"exceptionClass\": \"\", \"trace\": \"\"}}, \"*\")"
      ],
      "text/plain": [
       "<IPython.core.display.Javascript object>"
      ]
     },
     "metadata": {},
     "output_type": "display_data"
    },
    {
     "data": {
      "text/markdown": [
       "<span style=\"color:#33cc33\">Correct</span>"
      ],
      "text/plain": [
       "Correct"
      ]
     },
     "metadata": {},
     "output_type": "display_data"
    }
   ],
   "source": [
    "num_tables = 1  # Store the answer as num_tables and then run this cell\n",
    "\n",
    "# Check your answer\n",
    "q_1.check()"
   ]
  },
  {
   "cell_type": "markdown",
   "id": "65e89242",
   "metadata": {
    "papermill": {
     "duration": 0.007232,
     "end_time": "2023-08-22T09:21:40.114532",
     "exception": false,
     "start_time": "2023-08-22T09:21:40.107300",
     "status": "completed"
    },
    "tags": []
   },
   "source": [
    "For a hint or the solution, uncomment the appropriate line below."
   ]
  },
  {
   "cell_type": "code",
   "execution_count": 5,
   "id": "ffda1214",
   "metadata": {
    "execution": {
     "iopub.execute_input": "2023-08-22T09:21:40.131978Z",
     "iopub.status.busy": "2023-08-22T09:21:40.131290Z",
     "iopub.status.idle": "2023-08-22T09:21:40.135690Z",
     "shell.execute_reply": "2023-08-22T09:21:40.134862Z"
    },
    "papermill": {
     "duration": 0.016156,
     "end_time": "2023-08-22T09:21:40.138257",
     "exception": false,
     "start_time": "2023-08-22T09:21:40.122101",
     "status": "completed"
    },
    "tags": []
   },
   "outputs": [],
   "source": [
    "#q_1.hint()\n",
    "#q_1.solution()"
   ]
  },
  {
   "cell_type": "markdown",
   "id": "0903ee47",
   "metadata": {
    "papermill": {
     "duration": 0.007597,
     "end_time": "2023-08-22T09:21:40.153637",
     "exception": false,
     "start_time": "2023-08-22T09:21:40.146040",
     "status": "completed"
    },
    "tags": []
   },
   "source": [
    "### 2) Explore the table schema\n",
    "\n",
    "How many columns in the `crime` table have `TIMESTAMP` data?"
   ]
  },
  {
   "cell_type": "code",
   "execution_count": 6,
   "id": "c174c6df",
   "metadata": {
    "execution": {
     "iopub.execute_input": "2023-08-22T09:21:40.171698Z",
     "iopub.status.busy": "2023-08-22T09:21:40.171050Z",
     "iopub.status.idle": "2023-08-22T09:21:40.625976Z",
     "shell.execute_reply": "2023-08-22T09:21:40.624841Z"
    },
    "papermill": {
     "duration": 0.466905,
     "end_time": "2023-08-22T09:21:40.628804",
     "exception": false,
     "start_time": "2023-08-22T09:21:40.161899",
     "status": "completed"
    },
    "tags": []
   },
   "outputs": [
    {
     "name": "stdout",
     "output_type": "stream",
     "text": [
      "[SchemaField('unique_key', 'INTEGER', 'REQUIRED', None, (), None), SchemaField('case_number', 'STRING', 'NULLABLE', None, (), None), SchemaField('date', 'TIMESTAMP', 'NULLABLE', None, (), None), SchemaField('block', 'STRING', 'NULLABLE', None, (), None), SchemaField('iucr', 'STRING', 'NULLABLE', None, (), None), SchemaField('primary_type', 'STRING', 'NULLABLE', None, (), None), SchemaField('description', 'STRING', 'NULLABLE', None, (), None), SchemaField('location_description', 'STRING', 'NULLABLE', None, (), None), SchemaField('arrest', 'BOOLEAN', 'NULLABLE', None, (), None), SchemaField('domestic', 'BOOLEAN', 'NULLABLE', None, (), None), SchemaField('beat', 'INTEGER', 'NULLABLE', None, (), None), SchemaField('district', 'INTEGER', 'NULLABLE', None, (), None), SchemaField('ward', 'INTEGER', 'NULLABLE', None, (), None), SchemaField('community_area', 'INTEGER', 'NULLABLE', None, (), None), SchemaField('fbi_code', 'STRING', 'NULLABLE', None, (), None), SchemaField('x_coordinate', 'FLOAT', 'NULLABLE', None, (), None), SchemaField('y_coordinate', 'FLOAT', 'NULLABLE', None, (), None), SchemaField('year', 'INTEGER', 'NULLABLE', None, (), None), SchemaField('updated_on', 'TIMESTAMP', 'NULLABLE', None, (), None), SchemaField('latitude', 'FLOAT', 'NULLABLE', None, (), None), SchemaField('longitude', 'FLOAT', 'NULLABLE', None, (), None), SchemaField('location', 'STRING', 'NULLABLE', None, (), None)]\n"
     ]
    }
   ],
   "source": [
    "# Write the code to figure out the answer\n",
    "# Construct a reference to the \"crime\" table\n",
    "table_ref = dataset_ref.table(\"crime\")\n",
    "\n",
    "# API request - fetch the table\n",
    "table = client.get_table(table_ref)\n",
    "\n",
    "# Print information on all the columns in the \"crime\" table in the \"chicago_crime\" dataset\n",
    "print(table.schema)"
   ]
  },
  {
   "cell_type": "code",
   "execution_count": 7,
   "id": "e6942514",
   "metadata": {
    "execution": {
     "iopub.execute_input": "2023-08-22T09:21:40.647381Z",
     "iopub.status.busy": "2023-08-22T09:21:40.646965Z",
     "iopub.status.idle": "2023-08-22T09:21:40.655793Z",
     "shell.execute_reply": "2023-08-22T09:21:40.654743Z"
    },
    "papermill": {
     "duration": 0.021061,
     "end_time": "2023-08-22T09:21:40.658002",
     "exception": false,
     "start_time": "2023-08-22T09:21:40.636941",
     "status": "completed"
    },
    "tags": []
   },
   "outputs": [
    {
     "data": {
      "application/javascript": [
       "parent.postMessage({\"jupyterEvent\": \"custom.exercise_interaction\", \"data\": {\"outcomeType\": 1, \"valueTowardsCompletion\": 0.3333333333333333, \"interactionType\": 1, \"questionType\": 1, \"questionId\": \"2_CountTimestampFields\", \"learnToolsVersion\": \"0.3.4\", \"failureMessage\": \"\", \"exceptionClass\": \"\", \"trace\": \"\"}}, \"*\")"
      ],
      "text/plain": [
       "<IPython.core.display.Javascript object>"
      ]
     },
     "metadata": {},
     "output_type": "display_data"
    },
    {
     "data": {
      "text/markdown": [
       "<span style=\"color:#33cc33\">Correct</span>"
      ],
      "text/plain": [
       "Correct"
      ]
     },
     "metadata": {},
     "output_type": "display_data"
    }
   ],
   "source": [
    "num_timestamp_fields = 2\n",
    "\n",
    "# Check your answer\n",
    "q_2.check()"
   ]
  },
  {
   "cell_type": "markdown",
   "id": "25f07878",
   "metadata": {
    "papermill": {
     "duration": 0.008311,
     "end_time": "2023-08-22T09:21:40.674390",
     "exception": false,
     "start_time": "2023-08-22T09:21:40.666079",
     "status": "completed"
    },
    "tags": []
   },
   "source": [
    "For a hint or the solution, uncomment the appropriate line below."
   ]
  },
  {
   "cell_type": "code",
   "execution_count": 8,
   "id": "cab005cb",
   "metadata": {
    "execution": {
     "iopub.execute_input": "2023-08-22T09:21:40.694523Z",
     "iopub.status.busy": "2023-08-22T09:21:40.694052Z",
     "iopub.status.idle": "2023-08-22T09:21:40.698797Z",
     "shell.execute_reply": "2023-08-22T09:21:40.697614Z"
    },
    "papermill": {
     "duration": 0.018122,
     "end_time": "2023-08-22T09:21:40.701734",
     "exception": false,
     "start_time": "2023-08-22T09:21:40.683612",
     "status": "completed"
    },
    "tags": []
   },
   "outputs": [],
   "source": [
    "# q_2.hint()\n",
    "# q_2.solution()"
   ]
  },
  {
   "cell_type": "markdown",
   "id": "d359982d",
   "metadata": {
    "papermill": {
     "duration": 0.00781,
     "end_time": "2023-08-22T09:21:40.717934",
     "exception": false,
     "start_time": "2023-08-22T09:21:40.710124",
     "status": "completed"
    },
    "tags": []
   },
   "source": [
    "### 3) Create a crime map\n",
    "\n",
    "If you wanted to create a map with a dot at the location of each crime, what are the names of the two fields you likely need to pull out of the `crime` table to plot the crimes on a map?"
   ]
  },
  {
   "cell_type": "code",
   "execution_count": 9,
   "id": "ac77261f",
   "metadata": {
    "execution": {
     "iopub.execute_input": "2023-08-22T09:21:40.736185Z",
     "iopub.status.busy": "2023-08-22T09:21:40.735480Z",
     "iopub.status.idle": "2023-08-22T09:21:40.740640Z",
     "shell.execute_reply": "2023-08-22T09:21:40.739337Z"
    },
    "papermill": {
     "duration": 0.017132,
     "end_time": "2023-08-22T09:21:40.743288",
     "exception": false,
     "start_time": "2023-08-22T09:21:40.726156",
     "status": "completed"
    },
    "tags": []
   },
   "outputs": [],
   "source": [
    "# Write the code here to explore the data so you can find the answer\n"
   ]
  },
  {
   "cell_type": "code",
   "execution_count": 10,
   "id": "4b3c4b06",
   "metadata": {
    "execution": {
     "iopub.execute_input": "2023-08-22T09:21:40.762410Z",
     "iopub.status.busy": "2023-08-22T09:21:40.761951Z",
     "iopub.status.idle": "2023-08-22T09:21:40.772034Z",
     "shell.execute_reply": "2023-08-22T09:21:40.770861Z"
    },
    "papermill": {
     "duration": 0.022721,
     "end_time": "2023-08-22T09:21:40.774357",
     "exception": false,
     "start_time": "2023-08-22T09:21:40.751636",
     "status": "completed"
    },
    "tags": []
   },
   "outputs": [
    {
     "data": {
      "application/javascript": [
       "parent.postMessage({\"jupyterEvent\": \"custom.exercise_interaction\", \"data\": {\"outcomeType\": 1, \"valueTowardsCompletion\": 0.3333333333333333, \"interactionType\": 1, \"questionType\": 2, \"questionId\": \"3_IdentifyFieldsForPlotting\", \"learnToolsVersion\": \"0.3.4\", \"failureMessage\": \"\", \"exceptionClass\": \"\", \"trace\": \"\"}}, \"*\")"
      ],
      "text/plain": [
       "<IPython.core.display.Javascript object>"
      ]
     },
     "metadata": {},
     "output_type": "display_data"
    },
    {
     "data": {
      "text/markdown": [
       "<span style=\"color:#33cc33\">Correct</span>"
      ],
      "text/plain": [
       "Correct"
      ]
     },
     "metadata": {},
     "output_type": "display_data"
    }
   ],
   "source": [
    "fields_for_plotting = ['latitude', 'longitude']\n",
    "\n",
    "# Check your answer\n",
    "q_3.check()"
   ]
  },
  {
   "cell_type": "markdown",
   "id": "1cc81ff0",
   "metadata": {
    "papermill": {
     "duration": 0.008203,
     "end_time": "2023-08-22T09:21:40.791551",
     "exception": false,
     "start_time": "2023-08-22T09:21:40.783348",
     "status": "completed"
    },
    "tags": []
   },
   "source": [
    "For a hint or the solution, uncomment the appropriate line below."
   ]
  },
  {
   "cell_type": "code",
   "execution_count": 11,
   "id": "6942fbd3",
   "metadata": {
    "execution": {
     "iopub.execute_input": "2023-08-22T09:21:40.810342Z",
     "iopub.status.busy": "2023-08-22T09:21:40.809892Z",
     "iopub.status.idle": "2023-08-22T09:21:40.814791Z",
     "shell.execute_reply": "2023-08-22T09:21:40.813540Z"
    },
    "papermill": {
     "duration": 0.017045,
     "end_time": "2023-08-22T09:21:40.817078",
     "exception": false,
     "start_time": "2023-08-22T09:21:40.800033",
     "status": "completed"
    },
    "tags": []
   },
   "outputs": [],
   "source": [
    "# q_3.hint()\n",
    "# q_3.solution()"
   ]
  },
  {
   "cell_type": "markdown",
   "id": "0acf2082",
   "metadata": {
    "papermill": {
     "duration": 0.008553,
     "end_time": "2023-08-22T09:21:40.834382",
     "exception": false,
     "start_time": "2023-08-22T09:21:40.825829",
     "status": "completed"
    },
    "tags": []
   },
   "source": [
    "Thinking about the question above, there are a few columns that appear to have geographic data. Look at a few values (with the `list_rows()` command) to see if you can determine their relationship.  Two columns will still be hard to interpret. But it should be obvious how the `location` column relates to `latitude` and `longitude`."
   ]
  },
  {
   "cell_type": "code",
   "execution_count": 12,
   "id": "f1467ba9",
   "metadata": {
    "execution": {
     "iopub.execute_input": "2023-08-22T09:21:40.853261Z",
     "iopub.status.busy": "2023-08-22T09:21:40.852833Z",
     "iopub.status.idle": "2023-08-22T09:21:40.857621Z",
     "shell.execute_reply": "2023-08-22T09:21:40.856479Z"
    },
    "papermill": {
     "duration": 0.017071,
     "end_time": "2023-08-22T09:21:40.860034",
     "exception": false,
     "start_time": "2023-08-22T09:21:40.842963",
     "status": "completed"
    },
    "tags": []
   },
   "outputs": [],
   "source": [
    "# Scratch space for your code"
   ]
  },
  {
   "cell_type": "markdown",
   "id": "e4a2a39c",
   "metadata": {
    "papermill": {
     "duration": 0.008144,
     "end_time": "2023-08-22T09:21:40.876826",
     "exception": false,
     "start_time": "2023-08-22T09:21:40.868682",
     "status": "completed"
    },
    "tags": []
   },
   "source": [
    "# Keep going\n",
    "\n",
    "You've looked at the schema, but you haven't yet done anything exciting with the data itself. Things get more interesting when you get to the data, so keep going to **[write your first SQL query](https://www.kaggle.com/dansbecker/select-from-where).**"
   ]
  },
  {
   "cell_type": "markdown",
   "id": "22b337c0",
   "metadata": {
    "papermill": {
     "duration": 0.008233,
     "end_time": "2023-08-22T09:21:40.893786",
     "exception": false,
     "start_time": "2023-08-22T09:21:40.885553",
     "status": "completed"
    },
    "tags": []
   },
   "source": [
    "---\n",
    "\n",
    "\n",
    "\n",
    "\n",
    "*Have questions or comments? Visit the [course discussion forum](https://www.kaggle.com/learn/intro-to-sql/discussion) to chat with other learners.*"
   ]
  }
 ],
 "metadata": {
  "kernelspec": {
   "display_name": "Python 3",
   "language": "python",
   "name": "python3"
  },
  "language_info": {
   "codemirror_mode": {
    "name": "ipython",
    "version": 3
   },
   "file_extension": ".py",
   "mimetype": "text/x-python",
   "name": "python",
   "nbconvert_exporter": "python",
   "pygments_lexer": "ipython3",
   "version": "3.10.12"
  },
  "papermill": {
   "default_parameters": {},
   "duration": 15.519187,
   "end_time": "2023-08-22T09:21:41.824794",
   "environment_variables": {},
   "exception": null,
   "input_path": "__notebook__.ipynb",
   "output_path": "__notebook__.ipynb",
   "parameters": {},
   "start_time": "2023-08-22T09:21:26.305607",
   "version": "2.4.0"
  }
 },
 "nbformat": 4,
 "nbformat_minor": 5
}
