{
 "cells": [
  {
   "cell_type": "markdown",
   "id": "266b6288",
   "metadata": {
    "papermill": {
     "duration": 0.008148,
     "end_time": "2023-09-01T15:47:24.759421",
     "exception": false,
     "start_time": "2023-09-01T15:47:24.751273",
     "status": "completed"
    },
    "tags": []
   },
   "source": [
    "**This notebook is an exercise in the [Advanced SQL](https://www.kaggle.com/learn/advanced-sql) course.  You can reference the tutorial at [this link](https://www.kaggle.com/alexisbcook/analytic-functions).**\n",
    "\n",
    "---\n"
   ]
  },
  {
   "cell_type": "markdown",
   "id": "cc5d53b3",
   "metadata": {
    "papermill": {
     "duration": 0.007422,
     "end_time": "2023-09-01T15:47:24.774384",
     "exception": false,
     "start_time": "2023-09-01T15:47:24.766962",
     "status": "completed"
    },
    "tags": []
   },
   "source": [
    "# Introduction\n",
    "\n",
    "Here, you'll use window functions to answer questions about the [Chicago Taxi Trips](https://www.kaggle.com/chicago/chicago-taxi-trips-bq) dataset.\n",
    "\n",
    "Before you get started, run the code cell below to set everything up."
   ]
  },
  {
   "cell_type": "code",
   "execution_count": 1,
   "id": "5d99c4ca",
   "metadata": {
    "execution": {
     "iopub.execute_input": "2023-09-01T15:47:24.791116Z",
     "iopub.status.busy": "2023-09-01T15:47:24.790701Z",
     "iopub.status.idle": "2023-09-01T15:48:09.460515Z",
     "shell.execute_reply": "2023-09-01T15:48:09.459327Z"
    },
    "papermill": {
     "duration": 44.690173,
     "end_time": "2023-09-01T15:48:09.471854",
     "exception": false,
     "start_time": "2023-09-01T15:47:24.781681",
     "status": "completed"
    },
    "tags": []
   },
   "outputs": [
    {
     "name": "stdout",
     "output_type": "stream",
     "text": [
      "Collecting git+https://github.com/Kaggle/learntools.git\r\n",
      "  Cloning https://github.com/Kaggle/learntools.git to /tmp/pip-req-build-p4tqmbtk\r\n",
      "  Running command git clone --filter=blob:none --quiet https://github.com/Kaggle/learntools.git /tmp/pip-req-build-p4tqmbtk\r\n",
      "  fatal: unable to access 'https://github.com/Kaggle/learntools.git/': Could not resolve host: github.com\r\n",
      "  \u001b[1;31merror\u001b[0m: \u001b[1msubprocess-exited-with-error\u001b[0m\r\n",
      "  \r\n",
      "  \u001b[31m×\u001b[0m \u001b[32mgit clone --\u001b[0m\u001b[32mfilter\u001b[0m\u001b[32m=\u001b[0m\u001b[32mblob\u001b[0m\u001b[32m:none --quiet \u001b[0m\u001b[4;32mhttps://github.com/Kaggle/learntools.git\u001b[0m\u001b[32m \u001b[0m\u001b[32m/tmp/\u001b[0m\u001b[32mpip-req-build-p4tqmbtk\u001b[0m did not run successfully.\r\n",
      "  \u001b[31m│\u001b[0m exit code: \u001b[1;36m128\u001b[0m\r\n",
      "  \u001b[31m╰─>\u001b[0m See above for output.\r\n",
      "  \r\n",
      "  \u001b[1;35mnote\u001b[0m: This error originates from a subprocess, and is likely not a problem with pip.\r\n",
      "\u001b[1;31merror\u001b[0m: \u001b[1msubprocess-exited-with-error\u001b[0m\r\n",
      "\r\n",
      "\u001b[31m×\u001b[0m \u001b[32mgit clone --\u001b[0m\u001b[32mfilter\u001b[0m\u001b[32m=\u001b[0m\u001b[32mblob\u001b[0m\u001b[32m:none --quiet \u001b[0m\u001b[4;32mhttps://github.com/Kaggle/learntools.git\u001b[0m\u001b[32m \u001b[0m\u001b[32m/tmp/\u001b[0m\u001b[32mpip-req-build-p4tqmbtk\u001b[0m did not run successfully.\r\n",
      "\u001b[31m│\u001b[0m exit code: \u001b[1;36m128\u001b[0m\r\n",
      "\u001b[31m╰─>\u001b[0m See above for output.\r\n",
      "\r\n",
      "\u001b[1;35mnote\u001b[0m: This error originates from a subprocess, and is likely not a problem with pip.\r\n",
      "Using Kaggle's public dataset BigQuery integration.\n",
      "Setup Complete\n"
     ]
    }
   ],
   "source": [
    "# Get most recent checking code\n",
    "!pip install -U -t /kaggle/working/ git+https://github.com/Kaggle/learntools.git\n",
    "# Set up feedback system\n",
    "from learntools.core import binder\n",
    "binder.bind(globals())\n",
    "from learntools.sql_advanced.ex2 import *\n",
    "print(\"Setup Complete\")"
   ]
  },
  {
   "cell_type": "markdown",
   "id": "967ac95c",
   "metadata": {
    "papermill": {
     "duration": 0.007696,
     "end_time": "2023-09-01T15:48:09.487774",
     "exception": false,
     "start_time": "2023-09-01T15:48:09.480078",
     "status": "completed"
    },
    "tags": []
   },
   "source": [
    "The following code cell fetches the `taxi_trips` table from the `chicago_taxi_trips` dataset. We also preview the first five rows of the table.  You'll use the table to answer the questions below."
   ]
  },
  {
   "cell_type": "code",
   "execution_count": 2,
   "id": "68e405c1",
   "metadata": {
    "execution": {
     "iopub.execute_input": "2023-09-01T15:48:09.506058Z",
     "iopub.status.busy": "2023-09-01T15:48:09.505461Z",
     "iopub.status.idle": "2023-09-01T15:48:11.017194Z",
     "shell.execute_reply": "2023-09-01T15:48:11.015994Z"
    },
    "papermill": {
     "duration": 1.524406,
     "end_time": "2023-09-01T15:48:11.020053",
     "exception": false,
     "start_time": "2023-09-01T15:48:09.495647",
     "status": "completed"
    },
    "tags": []
   },
   "outputs": [
    {
     "name": "stdout",
     "output_type": "stream",
     "text": [
      "Using Kaggle's public dataset BigQuery integration.\n"
     ]
    },
    {
     "data": {
      "text/html": [
       "<div>\n",
       "<style scoped>\n",
       "    .dataframe tbody tr th:only-of-type {\n",
       "        vertical-align: middle;\n",
       "    }\n",
       "\n",
       "    .dataframe tbody tr th {\n",
       "        vertical-align: top;\n",
       "    }\n",
       "\n",
       "    .dataframe thead th {\n",
       "        text-align: right;\n",
       "    }\n",
       "</style>\n",
       "<table border=\"1\" class=\"dataframe\">\n",
       "  <thead>\n",
       "    <tr style=\"text-align: right;\">\n",
       "      <th></th>\n",
       "      <th>unique_key</th>\n",
       "      <th>taxi_id</th>\n",
       "      <th>trip_start_timestamp</th>\n",
       "      <th>trip_end_timestamp</th>\n",
       "      <th>trip_seconds</th>\n",
       "      <th>trip_miles</th>\n",
       "      <th>pickup_census_tract</th>\n",
       "      <th>dropoff_census_tract</th>\n",
       "      <th>pickup_community_area</th>\n",
       "      <th>dropoff_community_area</th>\n",
       "      <th>...</th>\n",
       "      <th>extras</th>\n",
       "      <th>trip_total</th>\n",
       "      <th>payment_type</th>\n",
       "      <th>company</th>\n",
       "      <th>pickup_latitude</th>\n",
       "      <th>pickup_longitude</th>\n",
       "      <th>pickup_location</th>\n",
       "      <th>dropoff_latitude</th>\n",
       "      <th>dropoff_longitude</th>\n",
       "      <th>dropoff_location</th>\n",
       "    </tr>\n",
       "  </thead>\n",
       "  <tbody>\n",
       "    <tr>\n",
       "      <th>0</th>\n",
       "      <td>0596c3b57c375341bbbf5c60aa37895e66d7cfe8</td>\n",
       "      <td>0083fcde0fb490b4ec424c63d1d750378f6ad11154d1d4...</td>\n",
       "      <td>2017-07-31 17:00:00+00:00</td>\n",
       "      <td>2017-07-31 17:00:00+00:00</td>\n",
       "      <td>240</td>\n",
       "      <td>0.0</td>\n",
       "      <td>NaN</td>\n",
       "      <td>NaN</td>\n",
       "      <td>35</td>\n",
       "      <td>35</td>\n",
       "      <td>...</td>\n",
       "      <td>2.5</td>\n",
       "      <td>8.00</td>\n",
       "      <td>Cash</td>\n",
       "      <td>Taxi Affiliation Services</td>\n",
       "      <td>41.835118</td>\n",
       "      <td>-87.618678</td>\n",
       "      <td>POINT (-87.6186777673 41.8351179863)</td>\n",
       "      <td>41.835118</td>\n",
       "      <td>-87.618678</td>\n",
       "      <td>POINT (-87.6186777673 41.8351179863)</td>\n",
       "    </tr>\n",
       "    <tr>\n",
       "      <th>1</th>\n",
       "      <td>11fb1a0ce633b924b51fbb1037a702454e6a4e67</td>\n",
       "      <td>e88fa53c774c82956a2aad60dcbdd260f05b157cf197da...</td>\n",
       "      <td>2017-07-09 23:15:00+00:00</td>\n",
       "      <td>2017-07-09 23:15:00+00:00</td>\n",
       "      <td>360</td>\n",
       "      <td>0.0</td>\n",
       "      <td>NaN</td>\n",
       "      <td>NaN</td>\n",
       "      <td>21</td>\n",
       "      <td>10</td>\n",
       "      <td>...</td>\n",
       "      <td>0.0</td>\n",
       "      <td>18.75</td>\n",
       "      <td>Cash</td>\n",
       "      <td>Blue Ribbon Taxi Association Inc.</td>\n",
       "      <td>41.938666</td>\n",
       "      <td>-87.711211</td>\n",
       "      <td>POINT (-87.7112105933 41.93866619620001)</td>\n",
       "      <td>41.985015</td>\n",
       "      <td>-87.804532</td>\n",
       "      <td>POINT (-87.8045320063 41.9850151008)</td>\n",
       "    </tr>\n",
       "    <tr>\n",
       "      <th>2</th>\n",
       "      <td>524b211fe3a58f0feae184ff23b42d004630624b</td>\n",
       "      <td>a149c6df861b2eff6f27491e024e37d2c3705aa5399c31...</td>\n",
       "      <td>2017-07-01 23:15:00+00:00</td>\n",
       "      <td>2017-07-01 23:30:00+00:00</td>\n",
       "      <td>540</td>\n",
       "      <td>0.0</td>\n",
       "      <td>1.703106e+10</td>\n",
       "      <td>1.703103e+10</td>\n",
       "      <td>6</td>\n",
       "      <td>3</td>\n",
       "      <td>...</td>\n",
       "      <td>0.0</td>\n",
       "      <td>6.75</td>\n",
       "      <td>Cash</td>\n",
       "      <td>Choice Taxi Association</td>\n",
       "      <td>41.953400</td>\n",
       "      <td>-87.646007</td>\n",
       "      <td>POINT (-87.6460070664 41.9534000435)</td>\n",
       "      <td>41.958155</td>\n",
       "      <td>-87.653022</td>\n",
       "      <td>POINT (-87.6530217894 41.9581548757)</td>\n",
       "    </tr>\n",
       "    <tr>\n",
       "      <th>3</th>\n",
       "      <td>368230c5225fcd5f64ddd0913f496ecccba4b837</td>\n",
       "      <td>ea9c7f865233f880e5f00abb728092901eeaf52c85a8c1...</td>\n",
       "      <td>2017-07-01 19:45:00+00:00</td>\n",
       "      <td>2017-07-01 19:45:00+00:00</td>\n",
       "      <td>540</td>\n",
       "      <td>1.7</td>\n",
       "      <td>NaN</td>\n",
       "      <td>NaN</td>\n",
       "      <td>1</td>\n",
       "      <td>1</td>\n",
       "      <td>...</td>\n",
       "      <td>0.0</td>\n",
       "      <td>7.75</td>\n",
       "      <td>Cash</td>\n",
       "      <td>Choice Taxi Association</td>\n",
       "      <td>42.009623</td>\n",
       "      <td>-87.670167</td>\n",
       "      <td>POINT (-87.67016685690001 42.0096228806)</td>\n",
       "      <td>42.009623</td>\n",
       "      <td>-87.670167</td>\n",
       "      <td>POINT (-87.67016685690001 42.0096228806)</td>\n",
       "    </tr>\n",
       "    <tr>\n",
       "      <th>4</th>\n",
       "      <td>6cf694ad332c878c61f1773416cd1ec7c96b5541</td>\n",
       "      <td>f419fe5a1711d4b01b124b8e9f3bef383be12f31cfb043...</td>\n",
       "      <td>2017-07-31 11:00:00+00:00</td>\n",
       "      <td>2017-07-31 12:15:00+00:00</td>\n",
       "      <td>4980</td>\n",
       "      <td>0.0</td>\n",
       "      <td>NaN</td>\n",
       "      <td>NaN</td>\n",
       "      <td>2</td>\n",
       "      <td>76</td>\n",
       "      <td>...</td>\n",
       "      <td>0.0</td>\n",
       "      <td>51.75</td>\n",
       "      <td>Cash</td>\n",
       "      <td>Choice Taxi Association</td>\n",
       "      <td>42.001571</td>\n",
       "      <td>-87.695013</td>\n",
       "      <td>POINT (-87.6950125892 42.001571027)</td>\n",
       "      <td>41.980264</td>\n",
       "      <td>-87.913625</td>\n",
       "      <td>POINT (-87.913624596 41.9802643146)</td>\n",
       "    </tr>\n",
       "  </tbody>\n",
       "</table>\n",
       "<p>5 rows × 23 columns</p>\n",
       "</div>"
      ],
      "text/plain": [
       "                                 unique_key  \\\n",
       "0  0596c3b57c375341bbbf5c60aa37895e66d7cfe8   \n",
       "1  11fb1a0ce633b924b51fbb1037a702454e6a4e67   \n",
       "2  524b211fe3a58f0feae184ff23b42d004630624b   \n",
       "3  368230c5225fcd5f64ddd0913f496ecccba4b837   \n",
       "4  6cf694ad332c878c61f1773416cd1ec7c96b5541   \n",
       "\n",
       "                                             taxi_id  \\\n",
       "0  0083fcde0fb490b4ec424c63d1d750378f6ad11154d1d4...   \n",
       "1  e88fa53c774c82956a2aad60dcbdd260f05b157cf197da...   \n",
       "2  a149c6df861b2eff6f27491e024e37d2c3705aa5399c31...   \n",
       "3  ea9c7f865233f880e5f00abb728092901eeaf52c85a8c1...   \n",
       "4  f419fe5a1711d4b01b124b8e9f3bef383be12f31cfb043...   \n",
       "\n",
       "       trip_start_timestamp        trip_end_timestamp  trip_seconds  \\\n",
       "0 2017-07-31 17:00:00+00:00 2017-07-31 17:00:00+00:00           240   \n",
       "1 2017-07-09 23:15:00+00:00 2017-07-09 23:15:00+00:00           360   \n",
       "2 2017-07-01 23:15:00+00:00 2017-07-01 23:30:00+00:00           540   \n",
       "3 2017-07-01 19:45:00+00:00 2017-07-01 19:45:00+00:00           540   \n",
       "4 2017-07-31 11:00:00+00:00 2017-07-31 12:15:00+00:00          4980   \n",
       "\n",
       "   trip_miles  pickup_census_tract  dropoff_census_tract  \\\n",
       "0         0.0                  NaN                   NaN   \n",
       "1         0.0                  NaN                   NaN   \n",
       "2         0.0         1.703106e+10          1.703103e+10   \n",
       "3         1.7                  NaN                   NaN   \n",
       "4         0.0                  NaN                   NaN   \n",
       "\n",
       "   pickup_community_area  dropoff_community_area  ...  extras  trip_total  \\\n",
       "0                     35                      35  ...     2.5        8.00   \n",
       "1                     21                      10  ...     0.0       18.75   \n",
       "2                      6                       3  ...     0.0        6.75   \n",
       "3                      1                       1  ...     0.0        7.75   \n",
       "4                      2                      76  ...     0.0       51.75   \n",
       "\n",
       "   payment_type                            company  pickup_latitude  \\\n",
       "0          Cash          Taxi Affiliation Services        41.835118   \n",
       "1          Cash  Blue Ribbon Taxi Association Inc.        41.938666   \n",
       "2          Cash            Choice Taxi Association        41.953400   \n",
       "3          Cash            Choice Taxi Association        42.009623   \n",
       "4          Cash            Choice Taxi Association        42.001571   \n",
       "\n",
       "  pickup_longitude                           pickup_location  \\\n",
       "0       -87.618678      POINT (-87.6186777673 41.8351179863)   \n",
       "1       -87.711211  POINT (-87.7112105933 41.93866619620001)   \n",
       "2       -87.646007      POINT (-87.6460070664 41.9534000435)   \n",
       "3       -87.670167  POINT (-87.67016685690001 42.0096228806)   \n",
       "4       -87.695013       POINT (-87.6950125892 42.001571027)   \n",
       "\n",
       "   dropoff_latitude  dropoff_longitude  \\\n",
       "0         41.835118         -87.618678   \n",
       "1         41.985015         -87.804532   \n",
       "2         41.958155         -87.653022   \n",
       "3         42.009623         -87.670167   \n",
       "4         41.980264         -87.913625   \n",
       "\n",
       "                           dropoff_location  \n",
       "0      POINT (-87.6186777673 41.8351179863)  \n",
       "1      POINT (-87.8045320063 41.9850151008)  \n",
       "2      POINT (-87.6530217894 41.9581548757)  \n",
       "3  POINT (-87.67016685690001 42.0096228806)  \n",
       "4       POINT (-87.913624596 41.9802643146)  \n",
       "\n",
       "[5 rows x 23 columns]"
      ]
     },
     "execution_count": 2,
     "metadata": {},
     "output_type": "execute_result"
    }
   ],
   "source": [
    "from google.cloud import bigquery\n",
    "\n",
    "# Create a \"Client\" object\n",
    "client = bigquery.Client()\n",
    "\n",
    "# Construct a reference to the \"chicago_taxi_trips\" dataset\n",
    "dataset_ref = client.dataset(\"chicago_taxi_trips\", project=\"bigquery-public-data\")\n",
    "\n",
    "# API request - fetch the dataset\n",
    "dataset = client.get_dataset(dataset_ref)\n",
    "\n",
    "# Construct a reference to the \"taxi_trips\" table\n",
    "table_ref = dataset_ref.table(\"taxi_trips\")\n",
    "\n",
    "# API request - fetch the table\n",
    "table = client.get_table(table_ref)\n",
    "\n",
    "# Preview the first five lines of the table\n",
    "client.list_rows(table, max_results=5).to_dataframe()"
   ]
  },
  {
   "cell_type": "markdown",
   "id": "f33fed30",
   "metadata": {
    "papermill": {
     "duration": 0.008584,
     "end_time": "2023-09-01T15:48:11.037279",
     "exception": false,
     "start_time": "2023-09-01T15:48:11.028695",
     "status": "completed"
    },
    "tags": []
   },
   "source": [
    "# Exercises\n",
    "\n",
    "### 1) How can you predict the demand for taxis?\n",
    "\n",
    "Say you work for a taxi company, and you're interested in predicting the demand for taxis.  Towards this goal, you'd like to create a plot that shows a rolling average of the daily number of taxi trips.  Amend the (partial) query below to return a DataFrame with two columns:\n",
    "- `trip_date` - contains one entry for each date from January 1, 2016, to March 31, 2016.\n",
    "- `avg_num_trips` - shows the average number of daily trips, calculated over a window including the value for the current date, along with the values for the preceding 3 days and the following 3 days, as long as the days fit within the three-month time frame.  For instance, when calculating the value in this column for January 3, 2016, the window will include the number of trips for the preceding 2 days, the current date, and the following 3 days.\n",
    "\n",
    "This query is partially completed for you, and you need only write the part that calculates the `avg_num_trips` column.  Note that this query uses a common table expression (CTE); if you need to review how to use CTEs, you're encouraged to check out [this tutorial](https://www.kaggle.com/dansbecker/as-with) in the [Intro to SQL](https://www.kaggle.com/learn/intro-to-sql) course."
   ]
  },
  {
   "cell_type": "code",
   "execution_count": 3,
   "id": "2b6d96f6",
   "metadata": {
    "execution": {
     "iopub.execute_input": "2023-09-01T15:48:11.058099Z",
     "iopub.status.busy": "2023-09-01T15:48:11.057102Z",
     "iopub.status.idle": "2023-09-01T15:48:12.353207Z",
     "shell.execute_reply": "2023-09-01T15:48:12.352426Z"
    },
    "papermill": {
     "duration": 1.309251,
     "end_time": "2023-09-01T15:48:12.355590",
     "exception": false,
     "start_time": "2023-09-01T15:48:11.046339",
     "status": "completed"
    },
    "tags": []
   },
   "outputs": [
    {
     "data": {
      "text/html": [
       "<div>\n",
       "<style scoped>\n",
       "    .dataframe tbody tr th:only-of-type {\n",
       "        vertical-align: middle;\n",
       "    }\n",
       "\n",
       "    .dataframe tbody tr th {\n",
       "        vertical-align: top;\n",
       "    }\n",
       "\n",
       "    .dataframe thead th {\n",
       "        text-align: right;\n",
       "    }\n",
       "</style>\n",
       "<table border=\"1\" class=\"dataframe\">\n",
       "  <thead>\n",
       "    <tr style=\"text-align: right;\">\n",
       "      <th></th>\n",
       "      <th>trip_date</th>\n",
       "      <th>avg_num_trips</th>\n",
       "    </tr>\n",
       "  </thead>\n",
       "  <tbody>\n",
       "    <tr>\n",
       "      <th>0</th>\n",
       "      <td>2016-01-19</td>\n",
       "      <td>85156.571429</td>\n",
       "    </tr>\n",
       "    <tr>\n",
       "      <th>1</th>\n",
       "      <td>2016-02-10</td>\n",
       "      <td>91321.142857</td>\n",
       "    </tr>\n",
       "    <tr>\n",
       "      <th>2</th>\n",
       "      <td>2016-01-07</td>\n",
       "      <td>75520.428571</td>\n",
       "    </tr>\n",
       "    <tr>\n",
       "      <th>3</th>\n",
       "      <td>2016-02-21</td>\n",
       "      <td>89790.714286</td>\n",
       "    </tr>\n",
       "    <tr>\n",
       "      <th>4</th>\n",
       "      <td>2016-01-18</td>\n",
       "      <td>85136.000000</td>\n",
       "    </tr>\n",
       "  </tbody>\n",
       "</table>\n",
       "</div>"
      ],
      "text/plain": [
       "    trip_date  avg_num_trips\n",
       "0  2016-01-19   85156.571429\n",
       "1  2016-02-10   91321.142857\n",
       "2  2016-01-07   75520.428571\n",
       "3  2016-02-21   89790.714286\n",
       "4  2016-01-18   85136.000000"
      ]
     },
     "metadata": {},
     "output_type": "display_data"
    },
    {
     "data": {
      "application/javascript": [
       "parent.postMessage({\"jupyterEvent\": \"custom.exercise_interaction\", \"data\": {\"outcomeType\": 1, \"valueTowardsCompletion\": 0.3333333333333333, \"interactionType\": 1, \"questionType\": 2, \"questionId\": \"1_TaxiDemand\", \"learnToolsVersion\": \"0.3.4\", \"failureMessage\": \"\", \"exceptionClass\": \"\", \"trace\": \"\"}}, \"*\")"
      ],
      "text/plain": [
       "<IPython.core.display.Javascript object>"
      ]
     },
     "metadata": {},
     "output_type": "display_data"
    },
    {
     "data": {
      "text/markdown": [
       "<span style=\"color:#33cc33\">Correct</span>"
      ],
      "text/plain": [
       "Correct"
      ]
     },
     "metadata": {},
     "output_type": "display_data"
    }
   ],
   "source": [
    "# Fill in the blank below\n",
    "avg_num_trips_query = \"\"\"\n",
    "                      WITH trips_by_day AS\n",
    "                      (\n",
    "                      SELECT DATE(trip_start_timestamp) AS trip_date,\n",
    "                          COUNT(*) as num_trips\n",
    "                      FROM `bigquery-public-data.chicago_taxi_trips.taxi_trips`\n",
    "                      WHERE trip_start_timestamp > '2016-01-01' AND trip_start_timestamp < '2016-04-01'\n",
    "                      GROUP BY trip_date\n",
    "                      )\n",
    "                      SELECT trip_date,\n",
    "                          AVG(num_trips) \n",
    "                          OVER (\n",
    "                               ORDER BY trip_date\n",
    "                               ROWS BETWEEN 3 PRECEDING AND 3 FOLLOWING\n",
    "                               ) AS avg_num_trips\n",
    "                      FROM trips_by_day\n",
    "                      \"\"\"\n",
    "\n",
    "# Check your answer\n",
    "q_1.check()"
   ]
  },
  {
   "cell_type": "code",
   "execution_count": 4,
   "id": "ce91b8d8",
   "metadata": {
    "execution": {
     "iopub.execute_input": "2023-09-01T15:48:12.377078Z",
     "iopub.status.busy": "2023-09-01T15:48:12.376632Z",
     "iopub.status.idle": "2023-09-01T15:48:12.380569Z",
     "shell.execute_reply": "2023-09-01T15:48:12.379745Z"
    },
    "papermill": {
     "duration": 0.01763,
     "end_time": "2023-09-01T15:48:12.382914",
     "exception": false,
     "start_time": "2023-09-01T15:48:12.365284",
     "status": "completed"
    },
    "tags": []
   },
   "outputs": [],
   "source": [
    "# Lines below will give you a hint or solution code\n",
    "#q_1.hint()\n",
    "#q_1.solution()"
   ]
  },
  {
   "cell_type": "markdown",
   "id": "d5c6d511",
   "metadata": {
    "papermill": {
     "duration": 0.008738,
     "end_time": "2023-09-01T15:48:12.400707",
     "exception": false,
     "start_time": "2023-09-01T15:48:12.391969",
     "status": "completed"
    },
    "tags": []
   },
   "source": [
    "### 2) Can you separate and order trips by community area?\n",
    "\n",
    "The query below returns a DataFrame with three columns from the table: `pickup_community_area`, `trip_start_timestamp`, and `trip_end_timestamp`.  \n",
    "\n",
    "Amend the query to return an additional column called `trip_number` which shows the order in which the trips were taken from their respective community areas.  So, the first trip of the day originating from community area 1 should receive a value of 1; the second trip of the day from the same area should receive a value of 2.  Likewise, the first trip of the day from community area 2 should receive a value of 1, and so on.\n",
    "\n",
    "Note that there are many numbering functions that can be used to solve this problem (depending on how you want to deal with trips that started at the same time from the same community area); to answer this question, please use the **RANK()** function."
   ]
  },
  {
   "cell_type": "code",
   "execution_count": 5,
   "id": "ec33fea2",
   "metadata": {
    "execution": {
     "iopub.execute_input": "2023-09-01T15:48:12.421560Z",
     "iopub.status.busy": "2023-09-01T15:48:12.420855Z",
     "iopub.status.idle": "2023-09-01T15:48:23.614215Z",
     "shell.execute_reply": "2023-09-01T15:48:23.613144Z"
    },
    "papermill": {
     "duration": 11.206982,
     "end_time": "2023-09-01T15:48:23.616590",
     "exception": false,
     "start_time": "2023-09-01T15:48:12.409608",
     "status": "completed"
    },
    "tags": []
   },
   "outputs": [
    {
     "data": {
      "text/html": [
       "<div>\n",
       "<style scoped>\n",
       "    .dataframe tbody tr th:only-of-type {\n",
       "        vertical-align: middle;\n",
       "    }\n",
       "\n",
       "    .dataframe tbody tr th {\n",
       "        vertical-align: top;\n",
       "    }\n",
       "\n",
       "    .dataframe thead th {\n",
       "        text-align: right;\n",
       "    }\n",
       "</style>\n",
       "<table border=\"1\" class=\"dataframe\">\n",
       "  <thead>\n",
       "    <tr style=\"text-align: right;\">\n",
       "      <th></th>\n",
       "      <th>pickup_community_area</th>\n",
       "      <th>trip_start_timestamp</th>\n",
       "      <th>trip_end_timestamp</th>\n",
       "      <th>trip_number</th>\n",
       "    </tr>\n",
       "  </thead>\n",
       "  <tbody>\n",
       "    <tr>\n",
       "      <th>0</th>\n",
       "      <td>26.0</td>\n",
       "      <td>2013-10-03 04:30:00+00:00</td>\n",
       "      <td>2013-10-03 04:45:00+00:00</td>\n",
       "      <td>1</td>\n",
       "    </tr>\n",
       "    <tr>\n",
       "      <th>1</th>\n",
       "      <td>26.0</td>\n",
       "      <td>2013-10-03 05:15:00+00:00</td>\n",
       "      <td>2013-10-03 05:15:00+00:00</td>\n",
       "      <td>2</td>\n",
       "    </tr>\n",
       "    <tr>\n",
       "      <th>2</th>\n",
       "      <td>14.0</td>\n",
       "      <td>2013-10-03 00:00:00+00:00</td>\n",
       "      <td>2013-10-03 00:15:00+00:00</td>\n",
       "      <td>1</td>\n",
       "    </tr>\n",
       "    <tr>\n",
       "      <th>3</th>\n",
       "      <td>14.0</td>\n",
       "      <td>2013-10-03 00:15:00+00:00</td>\n",
       "      <td>2013-10-03 00:30:00+00:00</td>\n",
       "      <td>2</td>\n",
       "    </tr>\n",
       "    <tr>\n",
       "      <th>4</th>\n",
       "      <td>14.0</td>\n",
       "      <td>2013-10-03 00:15:00+00:00</td>\n",
       "      <td>2013-10-03 00:15:00+00:00</td>\n",
       "      <td>2</td>\n",
       "    </tr>\n",
       "  </tbody>\n",
       "</table>\n",
       "</div>"
      ],
      "text/plain": [
       "   pickup_community_area      trip_start_timestamp        trip_end_timestamp  \\\n",
       "0                   26.0 2013-10-03 04:30:00+00:00 2013-10-03 04:45:00+00:00   \n",
       "1                   26.0 2013-10-03 05:15:00+00:00 2013-10-03 05:15:00+00:00   \n",
       "2                   14.0 2013-10-03 00:00:00+00:00 2013-10-03 00:15:00+00:00   \n",
       "3                   14.0 2013-10-03 00:15:00+00:00 2013-10-03 00:30:00+00:00   \n",
       "4                   14.0 2013-10-03 00:15:00+00:00 2013-10-03 00:15:00+00:00   \n",
       "\n",
       "   trip_number  \n",
       "0            1  \n",
       "1            2  \n",
       "2            1  \n",
       "3            2  \n",
       "4            2  "
      ]
     },
     "metadata": {},
     "output_type": "display_data"
    },
    {
     "data": {
      "application/javascript": [
       "parent.postMessage({\"jupyterEvent\": \"custom.exercise_interaction\", \"data\": {\"outcomeType\": 1, \"valueTowardsCompletion\": 0.3333333333333333, \"interactionType\": 1, \"questionType\": 2, \"questionId\": \"2_CommunityArea\", \"learnToolsVersion\": \"0.3.4\", \"failureMessage\": \"\", \"exceptionClass\": \"\", \"trace\": \"\"}}, \"*\")"
      ],
      "text/plain": [
       "<IPython.core.display.Javascript object>"
      ]
     },
     "metadata": {},
     "output_type": "display_data"
    },
    {
     "data": {
      "text/markdown": [
       "<span style=\"color:#33cc33\">Correct</span>"
      ],
      "text/plain": [
       "Correct"
      ]
     },
     "metadata": {},
     "output_type": "display_data"
    }
   ],
   "source": [
    "# Amend the query below\n",
    "trip_number_query = \"\"\"\n",
    "                    SELECT pickup_community_area,\n",
    "                        trip_start_timestamp,\n",
    "                        trip_end_timestamp,\n",
    "                        RANK()\n",
    "                            OVER (\n",
    "                                  PARTITION BY pickup_community_area\n",
    "                                  ORDER BY trip_start_timestamp\n",
    "                                 ) AS trip_number\n",
    "                    FROM `bigquery-public-data.chicago_taxi_trips.taxi_trips`\n",
    "                    WHERE DATE(trip_start_timestamp) = '2013-10-03' \n",
    "                    \"\"\"\n",
    "\n",
    "trip_number_result = client.query(trip_number_query).result().to_dataframe()\n",
    "\n",
    "# Check your answer\n",
    "q_2.check()"
   ]
  },
  {
   "cell_type": "code",
   "execution_count": 6,
   "id": "f0e6acce",
   "metadata": {
    "execution": {
     "iopub.execute_input": "2023-09-01T15:48:23.639047Z",
     "iopub.status.busy": "2023-09-01T15:48:23.637743Z",
     "iopub.status.idle": "2023-09-01T15:48:23.643128Z",
     "shell.execute_reply": "2023-09-01T15:48:23.642051Z"
    },
    "papermill": {
     "duration": 0.019237,
     "end_time": "2023-09-01T15:48:23.645650",
     "exception": false,
     "start_time": "2023-09-01T15:48:23.626413",
     "status": "completed"
    },
    "tags": []
   },
   "outputs": [],
   "source": [
    "# Lines below will give you a hint or solution code\n",
    "#q_2.hint()\n",
    "#q_2.solution()"
   ]
  },
  {
   "cell_type": "markdown",
   "id": "0c918d67",
   "metadata": {
    "papermill": {
     "duration": 0.009469,
     "end_time": "2023-09-01T15:48:23.665093",
     "exception": false,
     "start_time": "2023-09-01T15:48:23.655624",
     "status": "completed"
    },
    "tags": []
   },
   "source": [
    "### 3) How much time elapses between trips?\n",
    "\n",
    "The (partial) query in the code cell below shows, for each trip in the selected time frame, the corresponding `taxi_id`, `trip_start_timestamp`, and `trip_end_timestamp`. \n",
    "\n",
    "Your task in this exercise is to edit the query to include an additional `prev_break` column that shows the length of the break (in minutes) that the driver had before each trip started (this corresponds to the time between `trip_start_timestamp` of the current trip and `trip_end_timestamp` of the previous trip).  Partition the calculation by `taxi_id`, and order the results within each partition by `trip_start_timestamp`.\n",
    "\n",
    "Some sample results are shown below, where all rows correspond to the same driver (or `taxi_id`).  Take the time now to make sure that the values in the `prev_break` column make sense to you!\n",
    "\n",
    "![first_commands](https://storage.googleapis.com/kaggle-media/learn/images/qjvQzg8.png)\n",
    "\n",
    "Note that the first trip of the day for each driver should have a value of **NaN** (not a number) in the `prev_break` column."
   ]
  },
  {
   "cell_type": "code",
   "execution_count": 7,
   "id": "b078b62c",
   "metadata": {
    "execution": {
     "iopub.execute_input": "2023-09-01T15:48:23.687146Z",
     "iopub.status.busy": "2023-09-01T15:48:23.686766Z",
     "iopub.status.idle": "2023-09-01T15:48:43.829445Z",
     "shell.execute_reply": "2023-09-01T15:48:43.828386Z"
    },
    "papermill": {
     "duration": 20.157289,
     "end_time": "2023-09-01T15:48:43.832257",
     "exception": false,
     "start_time": "2023-09-01T15:48:23.674968",
     "status": "completed"
    },
    "tags": []
   },
   "outputs": [
    {
     "data": {
      "text/html": [
       "<div>\n",
       "<style scoped>\n",
       "    .dataframe tbody tr th:only-of-type {\n",
       "        vertical-align: middle;\n",
       "    }\n",
       "\n",
       "    .dataframe tbody tr th {\n",
       "        vertical-align: top;\n",
       "    }\n",
       "\n",
       "    .dataframe thead th {\n",
       "        text-align: right;\n",
       "    }\n",
       "</style>\n",
       "<table border=\"1\" class=\"dataframe\">\n",
       "  <thead>\n",
       "    <tr style=\"text-align: right;\">\n",
       "      <th></th>\n",
       "      <th>taxi_id</th>\n",
       "      <th>trip_start_timestamp</th>\n",
       "      <th>trip_end_timestamp</th>\n",
       "      <th>prev_break</th>\n",
       "    </tr>\n",
       "  </thead>\n",
       "  <tbody>\n",
       "    <tr>\n",
       "      <th>0</th>\n",
       "      <td>05001a5e70a7a8f38a2e4d2ee8a1e0fb87a20857413b44...</td>\n",
       "      <td>2013-10-03 13:30:00+00:00</td>\n",
       "      <td>2013-10-03 14:00:00+00:00</td>\n",
       "      <td>165.0</td>\n",
       "    </tr>\n",
       "    <tr>\n",
       "      <th>1</th>\n",
       "      <td>0520dba051796dd5a5a6bb274310b504d97f3a3b0b7d18...</td>\n",
       "      <td>2013-10-03 14:00:00+00:00</td>\n",
       "      <td>2013-10-03 14:15:00+00:00</td>\n",
       "      <td>255.0</td>\n",
       "    </tr>\n",
       "    <tr>\n",
       "      <th>2</th>\n",
       "      <td>125667cf70469e4ada5ced2973ac5fa8d2dc10745c1267...</td>\n",
       "      <td>2013-10-03 21:00:00+00:00</td>\n",
       "      <td>2013-10-03 21:00:00+00:00</td>\n",
       "      <td>210.0</td>\n",
       "    </tr>\n",
       "    <tr>\n",
       "      <th>3</th>\n",
       "      <td>1be1407efca4ff6ac787c8794df57e8eeac031eaf08fca...</td>\n",
       "      <td>2013-10-03 21:15:00+00:00</td>\n",
       "      <td>2013-10-03 21:15:00+00:00</td>\n",
       "      <td>165.0</td>\n",
       "    </tr>\n",
       "    <tr>\n",
       "      <th>4</th>\n",
       "      <td>1e5b69c83640bd5225fb3ccc33bc989b859f3e4cdb59f6...</td>\n",
       "      <td>2013-10-03 14:15:00+00:00</td>\n",
       "      <td>2013-10-03 14:15:00+00:00</td>\n",
       "      <td>270.0</td>\n",
       "    </tr>\n",
       "  </tbody>\n",
       "</table>\n",
       "</div>"
      ],
      "text/plain": [
       "                                             taxi_id  \\\n",
       "0  05001a5e70a7a8f38a2e4d2ee8a1e0fb87a20857413b44...   \n",
       "1  0520dba051796dd5a5a6bb274310b504d97f3a3b0b7d18...   \n",
       "2  125667cf70469e4ada5ced2973ac5fa8d2dc10745c1267...   \n",
       "3  1be1407efca4ff6ac787c8794df57e8eeac031eaf08fca...   \n",
       "4  1e5b69c83640bd5225fb3ccc33bc989b859f3e4cdb59f6...   \n",
       "\n",
       "       trip_start_timestamp        trip_end_timestamp  prev_break  \n",
       "0 2013-10-03 13:30:00+00:00 2013-10-03 14:00:00+00:00       165.0  \n",
       "1 2013-10-03 14:00:00+00:00 2013-10-03 14:15:00+00:00       255.0  \n",
       "2 2013-10-03 21:00:00+00:00 2013-10-03 21:00:00+00:00       210.0  \n",
       "3 2013-10-03 21:15:00+00:00 2013-10-03 21:15:00+00:00       165.0  \n",
       "4 2013-10-03 14:15:00+00:00 2013-10-03 14:15:00+00:00       270.0  "
      ]
     },
     "metadata": {},
     "output_type": "display_data"
    },
    {
     "data": {
      "application/javascript": [
       "parent.postMessage({\"jupyterEvent\": \"custom.exercise_interaction\", \"data\": {\"outcomeType\": 1, \"valueTowardsCompletion\": 0.3333333333333333, \"interactionType\": 1, \"questionType\": 2, \"questionId\": \"3_BreakTime\", \"learnToolsVersion\": \"0.3.4\", \"failureMessage\": \"\", \"exceptionClass\": \"\", \"trace\": \"\"}}, \"*\")"
      ],
      "text/plain": [
       "<IPython.core.display.Javascript object>"
      ]
     },
     "metadata": {},
     "output_type": "display_data"
    },
    {
     "data": {
      "text/markdown": [
       "<span style=\"color:#33cc33\">Correct</span>"
      ],
      "text/plain": [
       "Correct"
      ]
     },
     "metadata": {},
     "output_type": "display_data"
    }
   ],
   "source": [
    "# Fill in the blanks below\n",
    "break_time_query = \"\"\"\n",
    "                   SELECT taxi_id,\n",
    "                       trip_start_timestamp,\n",
    "                       trip_end_timestamp,\n",
    "                       TIMESTAMP_DIFF(\n",
    "                           trip_start_timestamp, \n",
    "                           LAG(trip_end_timestamp, 1) OVER (PARTITION BY taxi_id ORDER BY trip_start_timestamp), \n",
    "                           MINUTE) as prev_break\n",
    "                   FROM `bigquery-public-data.chicago_taxi_trips.taxi_trips`\n",
    "                   WHERE DATE(trip_start_timestamp) = '2013-10-03' \n",
    "                   \"\"\"\n",
    "\n",
    "break_time_result = client.query(break_time_query).result().to_dataframe()\n",
    "\n",
    "# Check your answer\n",
    "q_3.check()"
   ]
  },
  {
   "cell_type": "code",
   "execution_count": 8,
   "id": "5a59ad32",
   "metadata": {
    "execution": {
     "iopub.execute_input": "2023-09-01T15:48:43.855997Z",
     "iopub.status.busy": "2023-09-01T15:48:43.855567Z",
     "iopub.status.idle": "2023-09-01T15:48:43.860291Z",
     "shell.execute_reply": "2023-09-01T15:48:43.859201Z"
    },
    "papermill": {
     "duration": 0.01899,
     "end_time": "2023-09-01T15:48:43.862581",
     "exception": false,
     "start_time": "2023-09-01T15:48:43.843591",
     "status": "completed"
    },
    "tags": []
   },
   "outputs": [],
   "source": [
    "# Lines below will give you a hint or solution code\n",
    "#q_3.hint()\n",
    "#q_3.solution()"
   ]
  },
  {
   "cell_type": "markdown",
   "id": "74945ddd",
   "metadata": {
    "papermill": {
     "duration": 0.010082,
     "end_time": "2023-09-01T15:48:43.883130",
     "exception": false,
     "start_time": "2023-09-01T15:48:43.873048",
     "status": "completed"
    },
    "tags": []
   },
   "source": [
    "# Keep going\n",
    "\n",
    "Move on to learn how to query **[nested and repeated data](https://www.kaggle.com/alexisbcook/nested-and-repeated-data)**."
   ]
  },
  {
   "cell_type": "markdown",
   "id": "4d1f6f1e",
   "metadata": {
    "papermill": {
     "duration": 0.010196,
     "end_time": "2023-09-01T15:48:43.903808",
     "exception": false,
     "start_time": "2023-09-01T15:48:43.893612",
     "status": "completed"
    },
    "tags": []
   },
   "source": [
    "---\n",
    "\n",
    "\n",
    "\n",
    "\n",
    "*Have questions or comments? Visit the [course discussion forum](https://www.kaggle.com/learn/advanced-sql/discussion) to chat with other learners.*"
   ]
  }
 ],
 "kernelspec": {
  "display_name": "Python 3",
  "language": "python",
  "name": "python3"
 },
 "language_info": {
  "codemirror_mode": {
   "name": "ipython",
   "version": 3
  },
  "file_extension": ".py",
  "mimetype": "text/x-python",
  "name": "python",
  "nbconvert_exporter": "python",
  "pygments_lexer": "ipython3",
  "version": "3.6.4"
 },
 "metadata": {
  "kernelspec": {
   "display_name": "Python 3",
   "language": "python",
   "name": "python3"
  },
  "language_info": {
   "codemirror_mode": {
    "name": "ipython",
    "version": 3
   },
   "file_extension": ".py",
   "mimetype": "text/x-python",
   "name": "python",
   "nbconvert_exporter": "python",
   "pygments_lexer": "ipython3",
   "version": "3.10.12"
  },
  "papermill": {
   "default_parameters": {},
   "duration": 83.68273,
   "end_time": "2023-09-01T15:48:44.738065",
   "environment_variables": {},
   "exception": null,
   "input_path": "__notebook__.ipynb",
   "output_path": "__notebook__.ipynb",
   "parameters": {},
   "start_time": "2023-09-01T15:47:21.055335",
   "version": "2.4.0"
  }
 },
 "nbformat": 4,
 "nbformat_minor": 5
}
