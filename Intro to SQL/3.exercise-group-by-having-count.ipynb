{
 "cells": [
  {
   "cell_type": "markdown",
   "id": "f4dca915",
   "metadata": {
    "papermill": {
     "duration": 0.006179,
     "end_time": "2023-08-22T17:40:03.115872",
     "exception": false,
     "start_time": "2023-08-22T17:40:03.109693",
     "status": "completed"
    },
    "tags": []
   },
   "source": [
    "**This notebook is an exercise in the [SQL](https://www.kaggle.com/learn/intro-to-sql) course.  You can reference the tutorial at [this link](https://www.kaggle.com/dansbecker/group-by-having-count).**\n",
    "\n",
    "---\n"
   ]
  },
  {
   "cell_type": "markdown",
   "id": "02ef4201",
   "metadata": {
    "papermill": {
     "duration": 0.004564,
     "end_time": "2023-08-22T17:40:03.125656",
     "exception": false,
     "start_time": "2023-08-22T17:40:03.121092",
     "status": "completed"
    },
    "tags": []
   },
   "source": [
    "# Introduction\n",
    "\n",
    "Queries with **GROUP BY** can be powerful. There are many small things that can trip you up (like the order of the clauses), but it will start to feel natural once you've done it a few times. Here, you'll write queries using **GROUP BY** to answer questions from the Hacker News dataset.\n",
    "\n",
    "Before you get started, run the following cell to set everything up:"
   ]
  },
  {
   "cell_type": "code",
   "execution_count": 1,
   "id": "5c7d3555",
   "metadata": {
    "execution": {
     "iopub.execute_input": "2023-08-22T17:40:03.137547Z",
     "iopub.status.busy": "2023-08-22T17:40:03.136991Z",
     "iopub.status.idle": "2023-08-22T17:40:05.840515Z",
     "shell.execute_reply": "2023-08-22T17:40:05.839596Z"
    },
    "papermill": {
     "duration": 2.712926,
     "end_time": "2023-08-22T17:40:05.843439",
     "exception": false,
     "start_time": "2023-08-22T17:40:03.130513",
     "status": "completed"
    },
    "tags": []
   },
   "outputs": [
    {
     "name": "stdout",
     "output_type": "stream",
     "text": [
      "Using Kaggle's public dataset BigQuery integration.\n",
      "Using Kaggle's public dataset BigQuery integration.\n",
      "Setup Complete\n"
     ]
    }
   ],
   "source": [
    "#Set up feedback system\n",
    "from learntools.core import binder\n",
    "binder.bind(globals())\n",
    "\n",
    "with open(\"/opt/conda/lib/python3.10/site-packages/learntools/sql/ex3.py\",\"r\") as f:\n",
    "    ex3 = f.read()\n",
    "    ex3 = ex3.replace(\"SELECT author\",\"SELECT `by`\") # need to use backtick since column name is 'by' which is also a SQL keyword\n",
    "    ex3 = ex3.replace(\"GROUP BY author\",\"GROUP BY `by`\")\n",
    "    ex3 = ex3.replace(\"\\'author\\'\",\"\\'by\\'\")\n",
    "    ex3 = ex3.replace(\"`author`\",\"\\`by\\`\")\n",
    "    ex3 = ex3.replace(\"bigquery-public-data.hacker_news.comments\",\"bigquery-public-data.hacker_news.full\")\n",
    "\n",
    "    #Write fixes into v2 file\n",
    "    with open(\"/opt/conda/lib/python3.10/site-packages/learntools/sql/ex3_v2.py\",\"w\") as f2:\n",
    "        f2.write(ex3)\n",
    "        \n",
    "from google.cloud import bigquery\n",
    "\n",
    "# Create a \"Client\" object\n",
    "client = bigquery.Client()      \n",
    "        \n",
    "#Import v2\n",
    "from learntools.sql.ex3_v2 import *\n",
    "print(\"Setup Complete\")"
   ]
  },
  {
   "cell_type": "markdown",
   "id": "f7052374",
   "metadata": {
    "papermill": {
     "duration": 0.005218,
     "end_time": "2023-08-22T17:40:05.854315",
     "exception": false,
     "start_time": "2023-08-22T17:40:05.849097",
     "status": "completed"
    },
    "tags": []
   },
   "source": [
    "The code cell below fetches the `comments` table from the `hacker_news` dataset.  We also preview the first five rows of the table."
   ]
  },
  {
   "cell_type": "markdown",
   "id": "33977f76",
   "metadata": {
    "papermill": {
     "duration": 0.005116,
     "end_time": "2023-08-22T17:40:05.864888",
     "exception": false,
     "start_time": "2023-08-22T17:40:05.859772",
     "status": "completed"
    },
    "tags": []
   },
   "source": [
    "# Exercises\n",
    "\n",
    "### 1) Prolific commenters\n",
    "\n",
    "Hacker News would like to send awards to everyone who has written more than 10,000 posts. Write a query that returns all authors with more than 10,000 posts as well as their post counts. Call the column with post counts `NumPosts`.\n",
    "\n",
    "In case sample query is helpful, here is a query you saw in the tutorial to answer a similar question:\n",
    "```\n",
    "query = \"\"\"\n",
    "        SELECT parent, COUNT(1) AS NumPosts\n",
    "        FROM `bigquery-public-data.hacker_news.comments`\n",
    "        GROUP BY parent\n",
    "        HAVING COUNT(1) > 10\n",
    "        \"\"\"\n",
    "```"
   ]
  },
  {
   "cell_type": "code",
   "execution_count": 2,
   "id": "c1ecd5ef",
   "metadata": {
    "execution": {
     "iopub.execute_input": "2023-08-22T17:40:05.878400Z",
     "iopub.status.busy": "2023-08-22T17:40:05.877595Z",
     "iopub.status.idle": "2023-08-22T17:40:07.146996Z",
     "shell.execute_reply": "2023-08-22T17:40:07.145449Z"
    },
    "papermill": {
     "duration": 1.280072,
     "end_time": "2023-08-22T17:40:07.150587",
     "exception": false,
     "start_time": "2023-08-22T17:40:05.870515",
     "status": "completed"
    },
    "tags": []
   },
   "outputs": [
    {
     "name": "stdout",
     "output_type": "stream",
     "text": [
      "             by  NumPosts\n",
      "0       rhizome     11014\n",
      "1         gruez     11242\n",
      "2   chrisseaton     13650\n",
      "3      ceejayoz     17201\n",
      "4  dragonwriter     46333\n"
     ]
    },
    {
     "data": {
      "application/javascript": [
       "parent.postMessage({\"jupyterEvent\": \"custom.exercise_interaction\", \"data\": {\"outcomeType\": 1, \"valueTowardsCompletion\": 0.5, \"interactionType\": 1, \"questionType\": 2, \"questionId\": \"1_ProlificCommenters\", \"learnToolsVersion\": \"0.3.4\", \"failureMessage\": \"\", \"exceptionClass\": \"\", \"trace\": \"\"}}, \"*\")"
      ],
      "text/plain": [
       "<IPython.core.display.Javascript object>"
      ]
     },
     "metadata": {},
     "output_type": "display_data"
    },
    {
     "data": {
      "text/markdown": [
       "<span style=\"color:#33cc33\">Correct</span>"
      ],
      "text/plain": [
       "Correct"
      ]
     },
     "metadata": {},
     "output_type": "display_data"
    }
   ],
   "source": [
    "# Query to select prolific commenters and post counts\n",
    "prolific_commenters_query = \"\"\"\n",
    "                            SELECT `by`, COUNT(1) AS NumPosts\n",
    "                            FROM `bigquery-public-data.hacker_news.full`\n",
    "                            GROUP BY `by`\n",
    "                            HAVING COUNT(1) > 10000\n",
    "                            \"\"\"\n",
    "# Set up the query (cancel the query if it would use too much of \n",
    "# your quota, with the limit set to 1 GB)\n",
    "safe_config = bigquery.QueryJobConfig(maximum_bytes_billed=10**10)\n",
    "query_job = client.query(prolific_commenters_query, job_config=safe_config)\n",
    "\n",
    "# API request - run the query, and return a pandas DataFrame\n",
    "prolific_commenters = query_job.to_dataframe()\n",
    "\n",
    "# View top few rows of results\n",
    "print(prolific_commenters.head())\n",
    "\n",
    "# Check your answer\n",
    "q_1.check()"
   ]
  },
  {
   "cell_type": "markdown",
   "id": "4637826a",
   "metadata": {
    "papermill": {
     "duration": 0.005408,
     "end_time": "2023-08-22T17:40:07.162067",
     "exception": false,
     "start_time": "2023-08-22T17:40:07.156659",
     "status": "completed"
    },
    "tags": []
   },
   "source": [
    "For the solution, uncomment the line below."
   ]
  },
  {
   "cell_type": "code",
   "execution_count": 3,
   "id": "2721cdf4",
   "metadata": {
    "execution": {
     "iopub.execute_input": "2023-08-22T17:40:07.176955Z",
     "iopub.status.busy": "2023-08-22T17:40:07.176040Z",
     "iopub.status.idle": "2023-08-22T17:40:07.181912Z",
     "shell.execute_reply": "2023-08-22T17:40:07.180676Z"
    },
    "papermill": {
     "duration": 0.017024,
     "end_time": "2023-08-22T17:40:07.184757",
     "exception": false,
     "start_time": "2023-08-22T17:40:07.167733",
     "status": "completed"
    },
    "tags": []
   },
   "outputs": [],
   "source": [
    "# q_1.solution()"
   ]
  },
  {
   "cell_type": "markdown",
   "id": "b02314be",
   "metadata": {
    "papermill": {
     "duration": 0.005377,
     "end_time": "2023-08-22T17:40:07.195887",
     "exception": false,
     "start_time": "2023-08-22T17:40:07.190510",
     "status": "completed"
    },
    "tags": []
   },
   "source": [
    "### 2) Deleted comments\n",
    "\n",
    "How many comments have been deleted? (If a comment was deleted, the `deleted` column in the comments table will have the value `True`.)"
   ]
  },
  {
   "cell_type": "code",
   "execution_count": 4,
   "id": "6552071a",
   "metadata": {
    "execution": {
     "iopub.execute_input": "2023-08-22T17:40:07.210088Z",
     "iopub.status.busy": "2023-08-22T17:40:07.209183Z",
     "iopub.status.idle": "2023-08-22T17:40:08.403433Z",
     "shell.execute_reply": "2023-08-22T17:40:08.402408Z"
    },
    "papermill": {
     "duration": 1.204905,
     "end_time": "2023-08-22T17:40:08.406429",
     "exception": false,
     "start_time": "2023-08-22T17:40:07.201524",
     "status": "completed"
    },
    "tags": []
   },
   "outputs": [
    {
     "name": "stdout",
     "output_type": "stream",
     "text": [
      "   num_deleted_posts\n",
      "0             968172\n"
     ]
    }
   ],
   "source": [
    "# Write your query here and figure out the answer\n",
    "# Query to determine how many posts were deleted\n",
    "deleted_posts_query = \"\"\"\n",
    "                      SELECT COUNT(1) AS num_deleted_posts\n",
    "                      FROM `bigquery-public-data.hacker_news.full`\n",
    "                      WHERE deleted = True\n",
    "                      \"\"\"\n",
    "\n",
    "# Set up the query\n",
    "query_job = client.query(deleted_posts_query)\n",
    "\n",
    "# API request - run the query, and return a pandas DataFrame\n",
    "deleted_posts = query_job.to_dataframe()\n",
    "\n",
    "# View results\n",
    "print(deleted_posts)"
   ]
  },
  {
   "cell_type": "code",
   "execution_count": 5,
   "id": "62b01799",
   "metadata": {
    "execution": {
     "iopub.execute_input": "2023-08-22T17:40:08.420596Z",
     "iopub.status.busy": "2023-08-22T17:40:08.420154Z",
     "iopub.status.idle": "2023-08-22T17:40:08.429488Z",
     "shell.execute_reply": "2023-08-22T17:40:08.428325Z"
    },
    "papermill": {
     "duration": 0.019378,
     "end_time": "2023-08-22T17:40:08.432055",
     "exception": false,
     "start_time": "2023-08-22T17:40:08.412677",
     "status": "completed"
    },
    "tags": []
   },
   "outputs": [
    {
     "data": {
      "application/javascript": [
       "parent.postMessage({\"jupyterEvent\": \"custom.exercise_interaction\", \"data\": {\"outcomeType\": 1, \"valueTowardsCompletion\": 0.5, \"interactionType\": 1, \"questionType\": 1, \"questionId\": \"2_NumDeletedPosts\", \"learnToolsVersion\": \"0.3.4\", \"failureMessage\": \"\", \"exceptionClass\": \"\", \"trace\": \"\"}}, \"*\")"
      ],
      "text/plain": [
       "<IPython.core.display.Javascript object>"
      ]
     },
     "metadata": {},
     "output_type": "display_data"
    },
    {
     "data": {
      "text/markdown": [
       "<span style=\"color:#33cc33\">Correct</span>"
      ],
      "text/plain": [
       "Correct"
      ]
     },
     "metadata": {},
     "output_type": "display_data"
    }
   ],
   "source": [
    "num_deleted_posts = 968172 # Put your answer here\n",
    "\n",
    "# Check your answer\n",
    "q_2.check()"
   ]
  },
  {
   "cell_type": "markdown",
   "id": "710ae861",
   "metadata": {
    "papermill": {
     "duration": 0.006346,
     "end_time": "2023-08-22T17:40:08.445652",
     "exception": false,
     "start_time": "2023-08-22T17:40:08.439306",
     "status": "completed"
    },
    "tags": []
   },
   "source": [
    "For the solution, uncomment the line below."
   ]
  },
  {
   "cell_type": "code",
   "execution_count": 6,
   "id": "328d0668",
   "metadata": {
    "execution": {
     "iopub.execute_input": "2023-08-22T17:40:08.462591Z",
     "iopub.status.busy": "2023-08-22T17:40:08.462181Z",
     "iopub.status.idle": "2023-08-22T17:40:08.467008Z",
     "shell.execute_reply": "2023-08-22T17:40:08.465653Z"
    },
    "papermill": {
     "duration": 0.015845,
     "end_time": "2023-08-22T17:40:08.470011",
     "exception": false,
     "start_time": "2023-08-22T17:40:08.454166",
     "status": "completed"
    },
    "tags": []
   },
   "outputs": [],
   "source": [
    "#q_2.solution()"
   ]
  },
  {
   "cell_type": "markdown",
   "id": "8de44515",
   "metadata": {
    "papermill": {
     "duration": 0.006579,
     "end_time": "2023-08-22T17:40:08.483311",
     "exception": false,
     "start_time": "2023-08-22T17:40:08.476732",
     "status": "completed"
    },
    "tags": []
   },
   "source": [
    "# Keep Going\n",
    "**[Click here](https://www.kaggle.com/dansbecker/order-by)** to move on and learn about the **ORDER BY** clause."
   ]
  },
  {
   "cell_type": "markdown",
   "id": "00e9c6b7",
   "metadata": {
    "papermill": {
     "duration": 0.006205,
     "end_time": "2023-08-22T17:40:08.496339",
     "exception": false,
     "start_time": "2023-08-22T17:40:08.490134",
     "status": "completed"
    },
    "tags": []
   },
   "source": [
    "---\n",
    "\n",
    "\n",
    "\n",
    "\n",
    "*Have questions or comments? Visit the [course discussion forum](https://www.kaggle.com/learn/intro-to-sql/discussion) to chat with other learners.*"
   ]
  }
 ],
 "metadata": {
  "kernelspec": {
   "display_name": "Python 3",
   "language": "python",
   "name": "python3"
  },
  "language_info": {
   "codemirror_mode": {
    "name": "ipython",
    "version": 3
   },
   "file_extension": ".py",
   "mimetype": "text/x-python",
   "name": "python",
   "nbconvert_exporter": "python",
   "pygments_lexer": "ipython3",
   "version": "3.10.12"
  },
  "papermill": {
   "default_parameters": {},
   "duration": 18.689607,
   "end_time": "2023-08-22T17:40:09.426717",
   "environment_variables": {},
   "exception": null,
   "input_path": "__notebook__.ipynb",
   "output_path": "__notebook__.ipynb",
   "parameters": {},
   "start_time": "2023-08-22T17:39:50.737110",
   "version": "2.4.0"
  }
 },
 "nbformat": 4,
 "nbformat_minor": 5
}
